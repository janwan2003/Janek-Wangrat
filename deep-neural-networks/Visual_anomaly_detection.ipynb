{
  "cells": [
    {
      "cell_type": "markdown",
      "metadata": {
        "id": "CPnFWjIqkGBt"
      },
      "source": [
        "# Low-shot visual anomaly detection (v2)\n",
        "\n",
        "*This is the second version of the homework with some additional clarifications and changes in the task descriptions (see slack channel for details). The code remains untouched.*\n",
        "\n",
        "In this notebook you'll investigate visual anomaly detection in a typical industrial setting - we don't have much data and we can train only only normal (non-anomalous) examples.\n",
        "Read the [PADIM paper](https://arxiv.org/pdf/2011.08785.pdf) carefully.\n",
        "The code here is based on the original implementation from its authors.\n",
        "\n",
        "If you have any questions - please write them on slack in the channel.\n",
        "\n",
        "### Bibliography\n",
        "\n",
        "1. Defard, T., Setkov, A., Loesch, A., & Audigier, R. (2021). [Padim: a patch distribution modeling framework for anomaly detection and localization](https://arxiv.org/pdf/2011.08785.pdf). In International Conference on Pattern Recognition (pp. 475-489). Cham: Springer International Publishing."
      ]
    },
    {
      "cell_type": "markdown",
      "metadata": {
        "id": "GlXrdODFkGBu"
      },
      "source": [
        "## Data\n",
        "\n",
        "In case of any problems - please visit [MVTec AD](https://www.mvtec.com/company/research/datasets/mvtec-ad/downloads) to get the access to the data."
      ]
    },
    {
      "cell_type": "code",
      "execution_count": 1,
      "metadata": {
        "id": "8gw1WQ4ukGBv"
      },
      "outputs": [
        {
          "name": "stdout",
          "output_type": "stream",
          "text": [
            "Note: you may need to restart the kernel to use updated packages.\n"
          ]
        }
      ],
      "source": [
        "%pip install --quiet gdown  # for those who don't run it on Google Colab\n",
        "!gdown -q '1r7WJeDb-E5zzgQSOx7F7bNWg8kYX3yKE'\n",
        "!gdown -q '1Kb420ygkN1iBni5Iy_-psLGNoY0gQFk9'\n",
        "!gdown -q '12wDP9I3aVIr1qLekWY3GLhQO7c6SRhGn'"
      ]
    },
    {
      "cell_type": "code",
      "execution_count": 2,
      "metadata": {
        "id": "cO4n1-NtkGBv"
      },
      "outputs": [],
      "source": [
        "from pathlib import Path\n",
        "import tarfile\n",
        "\n",
        "DATA_PATH = Path('./mvtec_anomaly_detection')\n",
        "DATA_PATH.mkdir(exist_ok=True)\n",
        "\n",
        "for class_name in ['bottle', 'metal_nut', 'transistor']:\n",
        "    if not (DATA_PATH / class_name).exists():\n",
        "        with tarfile.open(class_name + '.tar.xz') as tar:\n",
        "            tar.extractall(path=DATA_PATH)"
      ]
    },
    {
      "cell_type": "markdown",
      "metadata": {
        "id": "Op13XWXkkGBw"
      },
      "source": [
        "## PADIM implementation"
      ]
    },
    {
      "cell_type": "code",
      "execution_count": 3,
      "metadata": {
        "id": "M7EHA16vkGBw"
      },
      "outputs": [],
      "source": [
        "import os\n",
        "import random\n",
        "import time\n",
        "from pathlib import Path\n",
        "from random import sample\n",
        "from typing import cast, Any, Dict, List, Optional, Tuple\n",
        "\n",
        "import pandas as pd\n",
        "import matplotlib.pyplot as plt\n",
        "import numpy as np\n",
        "import torch\n",
        "import torch.backends, torch.backends.mps\n",
        "import torch.nn.functional as F\n",
        "from numpy.typing import NDArray\n",
        "from matplotlib import colors\n",
        "from PIL import Image\n",
        "from sklearn.metrics import roc_auc_score, roc_curve, precision_recall_curve\n",
        "from scipy.spatial.distance import mahalanobis\n",
        "from scipy.ndimage import gaussian_filter\n",
        "from skimage import morphology\n",
        "from skimage.segmentation import mark_boundaries\n",
        "from torch.utils.data import DataLoader, Dataset\n",
        "from torchvision.models import wide_resnet50_2, resnet18, Wide_ResNet50_2_Weights, ResNet18_Weights\n",
        "from torch import nn\n",
        "from torchvision import transforms as T\n",
        "from tqdm import tqdm\n",
        "from torch.utils.data.sampler import SubsetRandomSampler\n",
        "\n",
        "FloatNDArray = NDArray[np.float32]"
      ]
    },
    {
      "cell_type": "code",
      "execution_count": 4,
      "metadata": {
        "id": "FRd73sHvkGBx"
      },
      "outputs": [],
      "source": [
        "# Leave it as is if you're unsure, this notebook will guess this for you below.\n",
        "DEVICE: Optional[torch.device] = None\n",
        "SEED: int = 42  # do not modify\n",
        "\n",
        "plt.style.use(\"dark_background\")"
      ]
    },
    {
      "cell_type": "code",
      "execution_count": 5,
      "metadata": {
        "id": "aUF0S_uYkGBx"
      },
      "outputs": [],
      "source": [
        "def seed_all(seed: int = 0) -> None:\n",
        "    random.seed(seed)\n",
        "    np.random.seed(seed)\n",
        "    torch.manual_seed(seed)\n",
        "    if torch.cuda.is_available():\n",
        "        torch.cuda.manual_seed_all(seed)\n",
        "\n",
        "\n",
        "def get_best_device_for_pytorch() -> torch.device:\n",
        "    if torch.cuda.is_available():\n",
        "        device_str = \"cuda\"     # GPU\n",
        "    elif hasattr(torch.backends, \"mps\") and torch.backends.mps.is_available():\n",
        "        device_str = \"mps\"      # Apple silicon\n",
        "    else:\n",
        "        device_str = \"cpu\"      # CPU\n",
        "    return torch.device(device_str)"
      ]
    },
    {
      "cell_type": "code",
      "execution_count": 6,
      "metadata": {
        "id": "NMpIscWJkGBy",
        "outputId": "45c73c48-35f8-42d9-d560-afe179140d63"
      },
      "outputs": [
        {
          "name": "stdout",
          "output_type": "stream",
          "text": [
            "Using PyTorch with cuda backend.\n",
            "Seeded everything with 42.\n"
          ]
        }
      ],
      "source": [
        "\n",
        "DEVICE = get_best_device_for_pytorch()\n",
        "print(f\"Using PyTorch with {DEVICE} backend.\")\n",
        "\n",
        "seed_all(SEED)\n",
        "print(f\"Seeded everything with {SEED}.\")"
      ]
    },
    {
      "cell_type": "markdown",
      "metadata": {
        "id": "sWGFCP8LkGBy"
      },
      "source": [
        "### MVTecDataset"
      ]
    },
    {
      "cell_type": "code",
      "execution_count": 7,
      "metadata": {
        "id": "C_9pJ4LEkGBz"
      },
      "outputs": [],
      "source": [
        "class MVTecDataset(Dataset[Tuple[torch.Tensor, int, torch.Tensor]]):\n",
        "    \"\"\"MVTec dataset of industrial objects with and without anomalies.\n",
        "\n",
        "    Yields (x, y, mask) tuples where:\n",
        "    - x is an RGB image from the class, as float tensor of shape (3, cropsize, cropsize);\n",
        "    - y is an int, 0 for good images, 1 for anomalous images;\n",
        "    - mask is 0 for normal pixels, 1 for anomalous pixels, as float tensor of shape (1, cropsize, cropsize).\n",
        "\n",
        "    Source: https://github.com/xiahaifeng1995/PaDiM-Anomaly-Detection-Localization-master/blob/main/datasets/mvtec.py\n",
        "    \"\"\"\n",
        "\n",
        "    def __init__(self, dataset_path: Path, class_name: str = 'bottle',\n",
        "                 is_train: bool = True, resize: int = 256, cropsize: int = 224, return_only_indices=False):\n",
        "        self.dataset_path = dataset_path\n",
        "        self.class_name = class_name\n",
        "        assert (dataset_path / class_name).is_dir(), f'Dataset class not found: {dataset_path / class_name}'\n",
        "        self.is_train = is_train\n",
        "\n",
        "        self.resize = resize\n",
        "        self.cropsize = cropsize\n",
        "\n",
        "        # load dataset\n",
        "        self.x, self.y, self.mask = self.load_dataset_folder()\n",
        "\n",
        "        # set transforms\n",
        "        self.transform_x = T.Compose([T.Resize(resize, Image.LANCZOS),\n",
        "                                      T.CenterCrop(cropsize),\n",
        "                                      T.ToTensor(),\n",
        "                                      T.Normalize(mean=[0.485, 0.456, 0.406],\n",
        "                                                  std=[0.229, 0.224, 0.225])])\n",
        "        self.transform_mask = T.Compose([T.Resize(resize, Image.NEAREST),\n",
        "                                         T.CenterCrop(cropsize),\n",
        "                                         T.ToTensor()])\n",
        "\n",
        "        self.return_only_indices = return_only_indices\n",
        "\n",
        "    def __getitem__(self, idx: int) -> Tuple[torch.Tensor, int, torch.Tensor]:\n",
        "        if self.return_only_indices:  # Used for checking the answer of T1.1.\n",
        "            return idx\n",
        "\n",
        "        x, y, mask = self.x[idx], self.y[idx], self.mask[idx]\n",
        "\n",
        "        x = Image.open(x).convert('RGB')\n",
        "        x = cast(torch.Tensor, self.transform_x(x))\n",
        "\n",
        "        if y == 0:\n",
        "            mask = torch.zeros([1, self.cropsize, self.cropsize])\n",
        "        else:\n",
        "            assert mask is not None\n",
        "            mask = Image.open(mask)\n",
        "            mask = cast(torch.Tensor, self.transform_mask(mask))\n",
        "\n",
        "        return x, y, mask\n",
        "\n",
        "    def __len__(self) -> int:\n",
        "        return len(self.x)\n",
        "\n",
        "    def load_dataset_folder(self) -> Tuple[List[Path], List[int], List[Optional[Path]]]:\n",
        "        phase = 'train' if self.is_train else 'test'\n",
        "        x: List[Path] = []\n",
        "        y: List[int] = []\n",
        "        mask: List[Optional[Path]] = []\n",
        "\n",
        "        img_dir = self.dataset_path / self.class_name / phase\n",
        "        gt_dir = self.dataset_path / self.class_name / 'ground_truth'\n",
        "\n",
        "        for img_type_dir in sorted(img_dir.iterdir()):\n",
        "            # Load images.\n",
        "            if not img_type_dir.is_dir():\n",
        "                continue\n",
        "            img_fpath_list = sorted(img_type_dir.glob('*.png'))\n",
        "            x.extend(img_fpath_list)\n",
        "\n",
        "            # Load ground-truth labels and masks.\n",
        "            if img_type_dir.name == 'good':\n",
        "                y.extend([0] * len(img_fpath_list))\n",
        "                mask.extend([None] * len(img_fpath_list))\n",
        "            else:\n",
        "                y.extend([1] * len(img_fpath_list))\n",
        "                mask.extend([gt_dir / img_type_dir.name / (f.stem + '_mask.png')\n",
        "                            for f in img_fpath_list])\n",
        "\n",
        "        assert len(x) == len(y) == len(mask), 'Number of x, y, and mask should be the same.'\n",
        "        return x, y, mask"
      ]
    },
    {
      "cell_type": "code",
      "execution_count": 8,
      "metadata": {
        "id": "-gfpFzFpkGBz"
      },
      "outputs": [],
      "source": [
        "def sample_idx(number_of_features: int, max_number_of_features: int) -> torch.Tensor:\n",
        "    assert number_of_features <= max_number_of_features\n",
        "    return torch.tensor(sample(range(0, max_number_of_features), number_of_features))\n",
        "\n",
        "\n",
        "def denormalization(x: FloatNDArray) -> NDArray[np.uint8]:\n",
        "    \"\"\"Denormalize with ImageNet values.\"\"\"\n",
        "    mean = np.array([0.485, 0.456, 0.406])\n",
        "    std = np.array([0.229, 0.224, 0.225])\n",
        "    return (((x.transpose(1, 2, 0) * std) + mean) * 255.).astype(np.uint8)\n",
        "\n",
        "\n",
        "def embedding_concat(x: torch.Tensor, y: torch.Tensor) -> torch.Tensor:\n",
        "    \"\"\"\n",
        "    Concatenate embeddings (along the channel dimension, upscaling y to match x).\n",
        "\n",
        "    Args:\n",
        "        x: Tensor of shape (B, C1, H1, W1).\n",
        "        y: Tensor of shape (B, C2, H2, W2).\n",
        "\n",
        "    Returns:\n",
        "        Tensor of shape is (B, C1 + C2, H1, W1).\n",
        "    \"\"\"\n",
        "    B, C1, H1, W1 = x.size()\n",
        "    _, C2, H2, W2 = y.size()\n",
        "    s = int(H1 / H2)\n",
        "    x = F.unfold(x, kernel_size=s, dilation=1, stride=s)\n",
        "    x = x.view(B, C1, s * s, H2, W2)\n",
        "    z = torch.zeros(B, C1 + C2, s * s, H2, W2).to(x.device)\n",
        "    for i in range(s * s):\n",
        "        z[:, :, i, :, :] = torch.cat((x[:, :, i, :, :], y), dim=1)\n",
        "    z = z.view(B, -1, H2 * W2)\n",
        "    z = F.fold(z, kernel_size=s, output_size=(H1, W1), stride=s)\n",
        "    return z\n",
        "\n",
        "def concatenate_embeddings_from_all_layers(layer_outputs: Dict[str, torch.Tensor]) -> torch.Tensor:\n",
        "        embedding_vectors = layer_outputs['layer1']\n",
        "        for layer_name in ['layer2', 'layer3']:\n",
        "            embedding_vectors = embedding_concat(embedding_vectors, layer_outputs[layer_name])\n",
        "        return embedding_vectors\n",
        "\n",
        "def plot_fig(test_img, scores, gts, threshold: float, save_dir: Path, class_name: str):\n",
        "    num = len(scores)\n",
        "    vmax = scores.max() * 255.\n",
        "    vmin = scores.min() * 255.\n",
        "    for i in range(num):\n",
        "        img = test_img[i]\n",
        "        img = denormalization(img)\n",
        "        gt = gts[i].transpose(1, 2, 0).squeeze()\n",
        "        heat_map = scores[i] * 255\n",
        "        mask = scores[i]\n",
        "        mask[mask > threshold] = 1\n",
        "        mask[mask <= threshold] = 0\n",
        "        kernel = morphology.disk(4)\n",
        "        mask = morphology.opening(mask, kernel)\n",
        "        mask *= 255\n",
        "        vis_img = mark_boundaries(img, mask, color=(1, 0, 0), mode='thick')\n",
        "        fig_img, ax_img = plt.subplots(1, 5, figsize=(12, 3))\n",
        "        fig_img.subplots_adjust(right=0.9)\n",
        "        norm = colors.Normalize(vmin=vmin, vmax=vmax)\n",
        "        for ax_i in ax_img:\n",
        "            ax_i.axes.xaxis.set_visible(False)\n",
        "            ax_i.axes.yaxis.set_visible(False)\n",
        "        ax_img[0].imshow(img)\n",
        "        ax_img[0].title.set_text('Image')\n",
        "        ax_img[1].imshow(gt, cmap='gray')\n",
        "        ax_img[1].title.set_text('GroundTruth')\n",
        "        ax = ax_img[2].imshow(heat_map, cmap='jet', norm=norm)\n",
        "        ax_img[2].imshow(img, cmap='gray', interpolation='none')\n",
        "        ax_img[2].imshow(heat_map, cmap='jet', alpha=0.5, interpolation='none')\n",
        "        ax_img[2].title.set_text('Predicted heat map')\n",
        "        ax_img[3].imshow(mask, cmap='gray')\n",
        "        ax_img[3].title.set_text('Predicted mask')\n",
        "        ax_img[4].imshow(vis_img)\n",
        "        ax_img[4].title.set_text('Segmentation result')\n",
        "        left = 0.92\n",
        "        bottom = 0.15\n",
        "        width = 0.015\n",
        "        height = 1 - 2 * bottom\n",
        "        rect = [left, bottom, width, height]\n",
        "        cbar_ax = fig_img.add_axes(rect)\n",
        "        cb = plt.colorbar(ax, shrink=0.6, cax=cbar_ax, fraction=0.046)\n",
        "        cb.ax.tick_params(labelsize=8)\n",
        "        font = {\n",
        "            'family': 'serif',\n",
        "            'color': 'black',\n",
        "            'weight': 'normal',\n",
        "            'size': 8,\n",
        "        }\n",
        "        cb.set_label('Anomaly Score', fontdict=font)\n",
        "\n",
        "        fig_img.savefig(save_dir / f'{class_name}_{i}', dpi=100)\n",
        "        plt.close()"
      ]
    },
    {
      "cell_type": "code",
      "execution_count": 9,
      "metadata": {
        "id": "nwSOfWHxkGBz"
      },
      "outputs": [],
      "source": [
        "def get_feature_extractor(arch: str) -> nn.Module:\n",
        "    if arch == 'resnet18':\n",
        "        model = resnet18(weights=ResNet18_Weights.IMAGENET1K_V1, progress=True)\n",
        "        # t_d = 448\n",
        "        # d = 40\n",
        "    elif arch == 'wide_resnet50_2':\n",
        "        model = wide_resnet50_2(weights=Wide_ResNet50_2_Weights.IMAGENET1K_V1, progress=True)\n",
        "        # t_d = 1792\n",
        "        # d = 550\n",
        "    else:\n",
        "        raise NotImplementedError\n",
        "    return model"
      ]
    },
    {
      "cell_type": "markdown",
      "metadata": {
        "id": "MgGoei17kGB0"
      },
      "source": [
        "### PADIM class"
      ]
    },
    {
      "cell_type": "code",
      "execution_count": 10,
      "metadata": {
        "id": "_ghNUkLTkGB0"
      },
      "outputs": [],
      "source": [
        "class PADIM():\n",
        "\n",
        "    def __init__(\n",
        "            self,\n",
        "            backbone: str,\n",
        "            device: torch.device,\n",
        "            save_path: Path,\n",
        "            backbone_features_idx: torch.Tensor,\n",
        "            class_names: List[str] = [\"bottle\"],\n",
        "            plot_metrics: bool = False,\n",
        "    ) -> None:\n",
        "        self.arch = backbone\n",
        "        self.device = device\n",
        "        self.model = get_feature_extractor(backbone)\n",
        "        self.model.to(device)\n",
        "        self.model.eval()\n",
        "\n",
        "        self.feature_subset_indices = backbone_features_idx\n",
        "        self.feature_subset_indices.to(device)\n",
        "\n",
        "        self.outputs: Dict[str, torch.Tensor] = {}\n",
        "\n",
        "        self.class_names = class_names\n",
        "        self.save_path = save_path\n",
        "        self.plot_metrics = plot_metrics\n",
        "\n",
        "        self.setup_hooks()\n",
        "        (self.save_path / f'temp_{self.arch}').mkdir(parents=True, exist_ok=True)\n",
        "\n",
        "        self.mean: FloatNDArray  # shape (C, H * W)\n",
        "        self.cov: FloatNDArray  # shape (C, C, H * W)\n",
        "\n",
        "    def setup_hooks(self):\n",
        "        \"\"\"Setup hooks to store model's intermediate outputs.\"\"\"\n",
        "        self.model.layer1[-1].register_forward_hook(lambda _, __, x: self.outputs.update({'layer1': x}))\n",
        "        self.model.layer2[-1].register_forward_hook(lambda _, __, x: self.outputs.update({'layer2': x}))\n",
        "        self.model.layer3[-1].register_forward_hook(lambda _, __, x: self.outputs.update({'layer3': x}))\n",
        "\n",
        "    def train_and_test(self, train_dataloader: DataLoader, test_dataloader: DataLoader) -> float:\n",
        "        self.train(train_dataloader)\n",
        "        return self.test(test_dataloader)\n",
        "\n",
        "    def train(self, train_dataloader: DataLoader) -> None:\n",
        "        self.train_outputs: Dict[str, List[torch.Tensor]] = {'layer1': [], 'layer2': [], 'layer3': []}\n",
        "        for x, _, _ in tqdm(train_dataloader, desc='Feature extraction (train)'):\n",
        "            # Run model prediction.\n",
        "            with torch.no_grad():\n",
        "                _ = self.model(x.to(DEVICE))\n",
        "            # Get intermediate layer outputs.\n",
        "            assert list(self.outputs.keys())  == ['layer1', 'layer2', 'layer3'], list(self.outputs.keys())\n",
        "            for k, v in self.outputs.items():\n",
        "                self.train_outputs[k].append(v.cpu().detach())\n",
        "            # Reset hook outputs.\n",
        "            self.outputs = {}\n",
        "\n",
        "        embedding_vectors = concatenate_embeddings_from_all_layers(\n",
        "            {k: torch.cat(v, 0) for k, v in self.train_outputs.items()})\n",
        "        embedding_vectors_subset = torch.index_select(embedding_vectors, 1, self.feature_subset_indices.cpu())\n",
        "\n",
        "        self.mean, self.cov = self.estimate_multivariate_gaussian(embedding_vectors_subset)\n",
        "        del(self.train_outputs)\n",
        "\n",
        "    def estimate_multivariate_gaussian(self, embedding_vectors: torch.Tensor\n",
        "                                       ) -> Tuple[FloatNDArray, FloatNDArray]:\n",
        "        \"\"\"Calculates multivariate Gaussian distribution.\n",
        "\n",
        "        Takes embeddings of shape (N, C, H, W).\n",
        "        Returns (mean, covariance) of shape (C, H * W) and (C, C, H * W) respectively.\n",
        "        \"\"\"\n",
        "        B, C, H, W = embedding_vectors.size()\n",
        "        embedding_vectors = embedding_vectors.view(B, C, H * W)\n",
        "        mean = torch.mean(embedding_vectors, dim=0).numpy()\n",
        "        cov = torch.zeros(C, C, H * W).numpy()\n",
        "        I = np.identity(C)\n",
        "        for i in tqdm(range(H * W), desc=\"Covariance estimation\"):\n",
        "            cov[:, :, i] = np.cov(embedding_vectors[:, :, i].numpy(), rowvar=False) + 0.01 * I\n",
        "        return mean, cov\n",
        "\n",
        "    def test(self, test_dataloader: DataLoader) -> float:\n",
        "        self.test_outputs: Dict[str, List[torch.Tensor]] = {'layer1': [], 'layer2': [], 'layer3': []}\n",
        "        test_imgs: List[FloatNDArray] = []\n",
        "        gt_list: List[NDArray[Any]] = []\n",
        "        gt_mask_list: List[FloatNDArray] = []\n",
        "\n",
        "        # Extract test set features.\n",
        "        for x, y, mask in tqdm(test_dataloader, desc='Feature extraction (test)', disable=False):\n",
        "            x_shape = x.shape\n",
        "            test_imgs.extend(x.cpu().detach().numpy())\n",
        "            gt_list.extend(y.cpu().detach().numpy())\n",
        "            gt_mask_list.extend(mask.cpu().detach().numpy())\n",
        "            # Run model prediction.\n",
        "            with torch.no_grad():\n",
        "                _ = self.model(x.to(DEVICE))\n",
        "            # Get intermediate layer outputs.\n",
        "            assert list(self.outputs.keys())  == ['layer1', 'layer2', 'layer3']\n",
        "            for k, v in self.outputs.items():\n",
        "                self.test_outputs[k].append(v.cpu().detach())\n",
        "            # Reset hook outputs.\n",
        "            self.outputs = {}\n",
        "        gt_mask = np.asarray(gt_mask_list)  # shape (len(test_dataset), 1, H, W)\n",
        "\n",
        "        embedding_vectors = concatenate_embeddings_from_all_layers(\n",
        "            {k: torch.cat(v, 0) for k, v in self.test_outputs.items()})\n",
        "        # print(f\"embeeding_vectors: {embedding_vectors.shape}\")\n",
        "        # shape (len(test_dataset), len(feature_subset_indices), H1, W1)\n",
        "        embedding_vectors_subset = torch.index_select(embedding_vectors, 1, self.feature_subset_indices.cpu())\n",
        "        # print(f\"embeeding_vectors_subset: {embedding_vectors_subset.shape}\")\n",
        "\n",
        "        distances = self.calculate_distances(embedding_vectors_subset)\n",
        "        score_map = self.prepare_anomaly_map((x_shape[2], x_shape[3]), distances)\n",
        "\n",
        "        img_fpr, img_tpr, img_auroc = self.calculate_auroc_image_level(score_map, gt_list)\n",
        "        pxl_fpr, pxl_tpr, pxl_auroc = self.calculate_auroc_pixel_level(score_map, gt_mask)\n",
        "\n",
        "        if self.plot_metrics:\n",
        "            print(f'[TEST] Image AUROC: {img_auroc:.3f}')\n",
        "            print(f'[TEST] Pixel AUROC: {pxl_auroc:.3f}')\n",
        "            threshold = self.calculate_optimal_threshold(score_map, gt_mask)\n",
        "            self.plot_test_results_for_class(gt_mask_list, test_imgs, score_map, threshold, img_fpr, img_tpr, img_auroc, pxl_fpr, pxl_tpr, pxl_auroc)\n",
        "\n",
        "        return pxl_auroc\n",
        "\n",
        "    # TODO: Some of your code for Task 1 goes here. You can add more functions if needed, but use the ones below - we will use them for checking your solution.\n",
        "    def test_permutation_importance(self, val_dataloader: DataLoader, features_to_permute: List[int]) -> List[float]:\n",
        "        \"\"\"Runs a series of tests on `val_dataloader`.\n",
        "        Returns a list of pixelwise AUROCs, where the n-th element of the list is generated by testing the embeddings from `permute_feature(embeddings, features_to_permute[n]).\"\"\"\n",
        "        self.test_outputs: Dict[str, List[torch.Tensor]] = {'layer1': [], 'layer2': [], 'layer3': []}\n",
        "        test_imgs: List[FloatNDArray] = []\n",
        "        gt_list: List[NDArray[Any]] = []\n",
        "        gt_mask_list: List[FloatNDArray] = []\n",
        "\n",
        "        # Extract test set features.\n",
        "        for x, y, mask in tqdm(val_dataloader, desc='Feature extraction (test)', disable=False):\n",
        "            x_shape = x.shape\n",
        "            test_imgs.extend(x.cpu().detach().numpy())\n",
        "            gt_list.extend(y.cpu().detach().numpy())\n",
        "            gt_mask_list.extend(mask.cpu().detach().numpy())\n",
        "            # Run model prediction.\n",
        "            with torch.no_grad():\n",
        "                _ = self.model(x.to(DEVICE))\n",
        "            # Get intermediate layer outputs.\n",
        "            assert list(self.outputs.keys())  == ['layer1', 'layer2', 'layer3']\n",
        "            for k, v in self.outputs.items():\n",
        "                self.test_outputs[k].append(v.cpu().detach())\n",
        "            # Reset hook outputs.\n",
        "            self.outputs = {}\n",
        "        gt_mask = np.asarray(gt_mask_list)  # shape (len(test_dataset), 1, H, W)\n",
        "\n",
        "        embedding_vectors = concatenate_embeddings_from_all_layers(\n",
        "            {k: torch.cat(v, 0) for k, v in self.test_outputs.items()})\n",
        "        # shape (len(test_dataset), len(feature_subset_indices), H1, W1)\n",
        "\n",
        "        embedding_vectors_subset = torch.index_select(embedding_vectors, 1, self.feature_subset_indices.cpu())\n",
        "        \n",
        "        feature_aurocs = []\n",
        "        for i, feature in enumerate(features_to_permute):\n",
        "            permuted_embedding = self.permute_feature(embedding_vectors_subset, feature)\n",
        "            permuted_distances = self.calculate_distances(permuted_embedding)\n",
        "            permuted_score_map = self.prepare_anomaly_map((x_shape[2], x_shape[3]), permuted_distances)\n",
        "            _, _, pxl_auroc = self.calculate_auroc_pixel_level(permuted_score_map, gt_mask)\n",
        "            feature_aurocs.append(pxl_auroc)\n",
        "            # print(f\"pxl_auroc: {pxl_auroc}\")\n",
        "\n",
        "        return feature_aurocs\n",
        "\n",
        "    def permute_feature(self, embedding_vectors_subset: torch.Tensor, number_of_feature_to_permute: int) -> torch.Tensor:\n",
        "        \"\"\"Permutes the embeddings.\n",
        "\n",
        "        Takes embeddings of shape (N, C, H, W) and feature number to permute.\n",
        "        Returns embeddings with the same shape. See the description of T1 for the details.\n",
        "        \"\"\"\n",
        "        B, C, H, W = embedding_vectors_subset.shape\n",
        "        # print(f\"B:{B}\\nC:{C}\\nH:{H}\\nW:{W}\")\n",
        "        if number_of_feature_to_permute >= C:\n",
        "            raise ValueError(f\"Feature index {number_of_feature_to_permute} is out of bounds for the number of channels {C}\")\n",
        "\n",
        "        permuted_embedding = embedding_vectors_subset.clone()\n",
        "\n",
        "        # Shuffle the H*W elements of the specified feature channel for each sample\n",
        "        for b in range(B):\n",
        "            perm = torch.randperm(H * W)\n",
        "            permuted_embedding[b, number_of_feature_to_permute, :, :] = embedding_vectors_subset[b, number_of_feature_to_permute, :, :].view(-1)[perm].view(H, W)\n",
        "\n",
        "        # return embedding_vectors_subset\n",
        "        return permuted_embedding\n",
        "        \n",
        "    # TODO: End of your code for Task 1 (here)\n",
        "\n",
        "    def plot_test_results_for_class(self, gt_mask_list, test_imgs,\n",
        "                                    score_map, threshold: float,\n",
        "                                    img_fpr, img_tpr, img_auroc: float,\n",
        "                                    pxl_fpr, pxl_tpr, pxl_auroc: float):\n",
        "        _, ax = plt.subplots(1, 2, figsize=(8, 4))\n",
        "        ax[0].plot(img_fpr, img_tpr, label=f'Image AUROC: {img_auroc:.3f}')\n",
        "        ax[1].plot(pxl_fpr, pxl_tpr, label=f'Pixel AUROC: {pxl_auroc:.3f}')\n",
        "\n",
        "        save_dir = self.save_path / f'pictures_{self.arch}'\n",
        "        save_dir.mkdir(parents=True, exist_ok=True)\n",
        "        plot_fig(test_imgs, score_map, gt_mask_list,\n",
        "                 threshold, save_dir, \"\")\n",
        "\n",
        "    def calculate_auroc_image_level(self, score_map: FloatNDArray, gt_list: List[NDArray[Any]]) -> Tuple[FloatNDArray, FloatNDArray, float]:\n",
        "        \"\"\"Calculate image-level AUROC score.\"\"\"\n",
        "        img_scores = score_map.reshape(score_map.shape[0], -1).max(axis=1)\n",
        "        fpr, tpr, _ = roc_curve(gt_list, img_scores)  # false-positive-rates and true-positive-rates for consecutive thresholds (for plotting).\n",
        "        img_auroc = roc_auc_score(gt_list, img_scores)\n",
        "        return fpr, tpr, float(img_auroc)\n",
        "\n",
        "    def calculate_auroc_pixel_level(self, score_map: FloatNDArray, gt_mask: FloatNDArray) -> Tuple[FloatNDArray, FloatNDArray, float]:\n",
        "        \"\"\"Calculate per-pixel level AUROC.\"\"\"\n",
        "        assert score_map.shape == gt_mask.squeeze().shape, f\"{score_map.shape=}, {gt_mask.shape=}\"\n",
        "        fpr, tpr, _ = roc_curve(gt_mask.flatten(), score_map.flatten())\n",
        "        per_pixel_auroc = roc_auc_score(gt_mask.flatten(), score_map.flatten())\n",
        "        return fpr, tpr, float(per_pixel_auroc)\n",
        "\n",
        "    def calculate_optimal_threshold(self, score_map: FloatNDArray, gt_mask: FloatNDArray) -> float:\n",
        "        \"\"\"Calculate the optimal threshold with regard to F1 score.\"\"\"\n",
        "        assert score_map.shape == gt_mask.squeeze().shape\n",
        "        precision, recall, thresholds = precision_recall_curve(\n",
        "            gt_mask.flatten(), score_map.flatten())\n",
        "        a = 2 * precision * recall\n",
        "        b = precision + recall\n",
        "        f1 = np.divide(a, b, out=np.zeros_like(a), where=(b != 0))\n",
        "        threshold = thresholds[np.argmax(f1)]\n",
        "        return threshold\n",
        "\n",
        "    def calculate_distances(self, embedding_vectors: torch.Tensor) -> FloatNDArray:\n",
        "        \"\"\"Calculate Mahalanobis distance of each embedding vector from self.mean.\n",
        "\n",
        "        For embeddings of shape (N, C, H, W), returns shape (N, H, W).\n",
        "        \"\"\"\n",
        "        B, C, H, W = embedding_vectors.size()\n",
        "        embedding_vectors = embedding_vectors.view(B, C, H * W).numpy()\n",
        "        dist_list: List[List[np.float64]] = []\n",
        "        for i in range(H * W):\n",
        "            mean = self.mean[:, i]\n",
        "            conv_inv = np.linalg.inv(self.cov[:, :, i])\n",
        "            dist = [mahalanobis(sample[:, i], mean, conv_inv)\n",
        "                    for sample in embedding_vectors]\n",
        "            dist_list.append(dist)\n",
        "\n",
        "        return np.array(dist_list).transpose(1, 0).reshape(B, H, W)\n",
        "\n",
        "    def prepare_anomaly_map(self, shape: Tuple[int, int], distances: FloatNDArray) -> FloatNDArray:\n",
        "        \"\"\"Upsample distances to `shape`, apply Gaussian smoothing, and normalize to [0,1].\n",
        "\n",
        "        For distances of shape (N, H, W) and `shape` equal to (H2, W2), returns shape (N, H2, W2).\n",
        "        \"\"\"\n",
        "        dists = torch.Tensor(distances).unsqueeze(1)\n",
        "        shape = (dists.shape[0],) + shape\n",
        "        score_map = cast(FloatNDArray, F.interpolate(\n",
        "            dists, size=shape[2], mode='bilinear', align_corners=False).squeeze().numpy())\n",
        "        for i in range(score_map.shape[0]):\n",
        "            score_map[i] = gaussian_filter(score_map[i], sigma=4)\n",
        "\n",
        "        min_score, max_score = score_map.min(), score_map.max()\n",
        "        return (score_map - min_score) / (max_score - min_score + 1e-10)"
      ]
    },
    {
      "cell_type": "markdown",
      "metadata": {
        "id": "uW8YSf4HkGB0"
      },
      "source": [
        "### Let's see whether it works.\n",
        "Take a look to the `SAVE_PATH` to inspect the results."
      ]
    },
    {
      "cell_type": "code",
      "execution_count": 11,
      "metadata": {
        "id": "UavbDr8BkGB1",
        "outputId": "5771d545-da3d-43cf-e82d-74621acb78e3"
      },
      "outputs": [
        {
          "name": "stdout",
          "output_type": "stream",
          "text": [
            "========== bottle\n"
          ]
        },
        {
          "name": "stderr",
          "output_type": "stream",
          "text": [
            "Feature extraction (train): 100%|██████████| 105/105 [00:04<00:00, 21.09it/s]\n",
            "Covariance estimation: 100%|██████████| 3136/3136 [00:00<00:00, 8924.20it/s]\n",
            "Feature extraction (test): 100%|██████████| 42/42 [00:02<00:00, 20.87it/s]\n"
          ]
        },
        {
          "name": "stdout",
          "output_type": "stream",
          "text": [
            "[TEST] Image AUROC: 0.998\n",
            "[TEST] Pixel AUROC: 0.981\n"
          ]
        },
        {
          "data": {
            "image/png": "[encoded data removed]",
            "text/plain": [
              "<Figure size 800x400 with 2 Axes>"
            ]
          },
          "metadata": {},
          "output_type": "display_data"
        }
      ],
      "source": [
        "seed_all(SEED)\n",
        "CLASS_NAMES = [\n",
        "            'bottle', #'metal_nut'\n",
        "            # 'cable', 'capsule', 'carpet', 'grid', 'hazelnut', 'leather',\n",
        "            # 'pill', 'screw', 'tile', 'toothbrush', 'transistor', 'wood', 'zipper'\n",
        "        ]\n",
        "BATCH_SIZE = 2\n",
        "RESIZE = 256 * 1\n",
        "CROP_SIZE = 224 * 1\n",
        "BACKBONE = \"resnet18\"\n",
        "NUMBER_OF_BACKBONE_FEATURES = 50\n",
        "MAX_NUMBER_OF_BACKBONE_FEATURES = 448\n",
        "\n",
        "run_timestamp = time.time()\n",
        "for class_name in CLASS_NAMES:\n",
        "    print('=' * 10, class_name)\n",
        "    SAVE_PATH = Path(f\"./results/{run_timestamp}/{class_name}\")\n",
        "\n",
        "    train_dataset = MVTecDataset(DATA_PATH, class_name=class_name, is_train=True, resize=RESIZE, cropsize=CROP_SIZE)\n",
        "    train_dataloader = DataLoader(train_dataset, batch_size=BATCH_SIZE, pin_memory=True)\n",
        "    test_dataset = MVTecDataset(DATA_PATH, class_name=class_name, is_train=False, resize=RESIZE, cropsize=CROP_SIZE)\n",
        "    test_dataloader = DataLoader(test_dataset, batch_size=BATCH_SIZE, pin_memory=True)\n",
        "\n",
        "    padim = PADIM(\n",
        "        backbone=BACKBONE,\n",
        "        device=DEVICE,\n",
        "        backbone_features_idx=sample_idx(NUMBER_OF_BACKBONE_FEATURES, MAX_NUMBER_OF_BACKBONE_FEATURES),\n",
        "        save_path=SAVE_PATH,\n",
        "        plot_metrics=True,\n",
        "    )\n",
        "\n",
        "    padim.train_and_test(\n",
        "        train_dataloader=train_dataloader,\n",
        "        test_dataloader=test_dataloader,\n",
        "    )"
      ]
    },
    {
      "cell_type": "markdown",
      "metadata": {
        "id": "W1-GRIhBkGB1"
      },
      "source": [
        "# Task 1. Finding the right features (40%)\n",
        "\n",
        "The authors of the paper argue that it doesn't really matter how we choose a subset of features. Let's make some steps towards exploring whether it's true for three different classes (`bottle`, `transistor`, `metal_nut`).\n",
        "Design an experiment which will rank the ResNet18 features by its importance. To do so, we'll implement our variation of [permutation feature importance](https://scikit-learn.org/stable/modules/permutation_importance.html#outline-of-the-permutation-importance-algorithm) on a subset of features produced by the backbone.\n",
        "\n",
        "## 1.1 Preparing the data\n",
        "- Using the test dataset, create `val_dataloader` (every even sample from the original test dataset) and `test_dataloader` (every odd sample). `SubsetRandomSampler` might be handy here.\n",
        "- Then, create 3-fold cross validation-like process in which you'll train three PADIM models on the first 100 ResNet features in three equally sized subsets of train dataset in which you discard 1/3 of the data ($\\texttt{padim}_{k}\\texttt{.train}(\\texttt{train\\_dataloader}_k)$) (see below). Again, `SubsetRandomSampler` might be handy here.\n",
        "\n",
        "In other words, you should have:\n",
        "\n",
        "- for $k=0$, the first 10 images indexes from the train dataset we should train on are `[1, 2, 4, 5, 7, 8, 10, 11, 13, 14]`,\n",
        "- for $k=1$, that's `[0, 2, 3, 5, 6, 8, 9, 11, 12, 14]`,\n",
        "- and for $k=2$, that's `[0, 1, 3, 4, 6, 7, 9, 10, 12, 13]`.\n",
        "\n",
        "For val and train, you should have `[0, 2, 4, ...]` and `[1, 3, 5, ...]` respectively (from the test dataset).\n",
        "\n",
        "Don't worry about the sampling order.\n",
        "Use these names for DataLoaders `val_dataloader`, `test_dataloader`. For k-fold training, store dataloaders in `train_dataloaders: List[DataLoader]`, where each element represent different $k$.\n",
        "For each class, store the results in `dataloaders` dictionary (the variable is defined in the code below) - we will use this to check your solution.\n",
        "\n",
        "## 1.2 Calculating the importances\n",
        "- In a given fold, each $j$-th feature shall be ranked based on the pixel-wise AUROC difference between the output of that model ($s_{k} \\leftarrow \\texttt{padim}_{k}\\texttt{.test}(\\texttt{val\\_dataloader})$) and the output with the model with permuted $j$-th feature ($s_{k, j} \\leftarrow \\texttt{padim}_{k}\\texttt{.test\\_permutation\\_importance}(\\texttt{val\\_dataloader, features\\_to\\_permute=}[j])$). In practice you can pass all the numbers of features to permute (instead of 1-element list and do the loop inside the method. See also `test_permutation_importance` method stub above.\n",
        "- Implement `permute_feature` method as follows: given the tensor with embeddings with shape `[B, C, H, W]`, by permutation of the $j$-th feature we mean randomly swapped values for $C=j$. Although (ideally) the order of swapping shall be **different** for every image, we don't require you to strictly guarantee that you won't get the same permutation twice (what matters here is not using the same permutation for **every** sample - you can e.g. use distinct calls to a shuffling function for every sample). In other words, for every image $b$ and feature $j$ you need to shuffle the last two dimensions (marked as stars in `[b, j, *, *]`) in an (ideally) unique manner.\n",
        "- Then, calculate the mean importance $i$ averaged on these folds and plot weights importance for the class ($i_j \\leftarrow \\frac{1}{K} \\sum_{k} ( s_k -  s_{k, j} )$, where $K$ is the number of folds).\n",
        "- Append results in `results` dictionary, where keys are class names and values are the lists of averaged feature importances (from feature 0 to feature 99).\n",
        "\n",
        "## 1.3 Drawing conclusions\n",
        "\n",
        "- Finally, for every class train three models on the full training data and evaluate it on the `test_dataloader`. The first model shall use the first 10 features, the second shall use worst 10 features (in terms of feature importance), and the third shall contain the best 10 features.\n",
        "- Write your conclusions (with the things enlisted below in mind). Simply plotting charts or outputting logs without any comment doesn't qualify as an answer to a question.\n",
        "\n",
        "Note 1: Limit yourself to the first 100 features of ResNet18. If you want, you can go with all of available features instead of 100, but it'll take some time to calculate. Converting parts of the code to PyTorch and running on GPU might change a lot here, but this is not evaluated in this exercise. This experiment can be calculated without GPU in less than one hour anyway.\n",
        "\n",
        "Note 2: If you'd like to be fully covered, one needs to explore if the features are correlated, as this might bias the results of feature importance calculations. However, this is not evaluated in this task for the sake of simplicity (that is, examining the 100 first features without worrying about correlated features are enough to get 100% from this task)."
      ]
    },
    {
      "cell_type": "code",
      "execution_count": 12,
      "metadata": {
        "id": "r4iQPWFDkGB1"
      },
      "outputs": [],
      "source": [
        "# do not modify\n",
        "CLASS_NAMES = ['bottle', \n",
        "               'transistor', \n",
        "               'metal_nut'\n",
        "               ]\n",
        "\n",
        "BATCH_SIZE = 1\n",
        "RESIZE = 256 * 2 // 4\n",
        "CROP_SIZE = 224 * 2 // 4\n",
        "BACKBONE = \"resnet18\"\n",
        "NUMBER_OF_BACKBONE_FEATURES = 10\n",
        "MAX_NUMBER_OF_BACKBONE_FEATURES = 100  # 448\n",
        "folds = 3"
      ]
    },
    {
      "cell_type": "code",
      "execution_count": 13,
      "metadata": {
        "id": "JNrHTCd7kGB2"
      },
      "outputs": [
        {
          "name": "stdout",
          "output_type": "stream",
          "text": [
            "1702929961.0085454\n",
            "==================================================\n",
            "Starting analysis for class: bottle\n"
          ]
        },
        {
          "name": "stderr",
          "output_type": "stream",
          "text": [
            "Feature extraction (train): 100%|██████████| 139/139 [00:02<00:00, 46.93it/s]\n",
            "Covariance estimation: 100%|██████████| 784/784 [00:00<00:00, 7150.19it/s]\n",
            "Feature extraction (test): 100%|██████████| 42/42 [00:00<00:00, 43.97it/s]\n",
            "Feature extraction (test): 100%|██████████| 42/42 [00:00<00:00, 44.76it/s]\n",
            "Feature extraction (train): 100%|██████████| 139/139 [00:02<00:00, 47.50it/s]\n",
            "Covariance estimation: 100%|██████████| 784/784 [00:00<00:00, 6813.96it/s]\n",
            "Feature extraction (test): 100%|██████████| 42/42 [00:00<00:00, 44.45it/s]\n",
            "Feature extraction (test): 100%|██████████| 42/42 [00:00<00:00, 44.81it/s]\n",
            "Feature extraction (train): 100%|██████████| 140/140 [00:02<00:00, 47.74it/s]\n",
            "Covariance estimation: 100%|██████████| 784/784 [00:00<00:00, 6718.45it/s]\n",
            "Feature extraction (test): 100%|██████████| 42/42 [00:00<00:00, 44.71it/s]\n",
            "Feature extraction (test): 100%|██████████| 42/42 [00:00<00:00, 44.47it/s]\n"
          ]
        },
        {
          "data": {
            "image/png": "[encoded data removed]",
            "text/plain": [
              "<Figure size 640x480 with 1 Axes>"
            ]
          },
          "metadata": {},
          "output_type": "display_data"
        },
        {
          "name": "stdout",
          "output_type": "stream",
          "text": [
            "sorted_indices: [95 44 51 87 60 10 21 43 72 57 14 25 26 11 94 50  3 13 49 28 41 46 42  8\n",
            " 56 36 97 63 58 48 55 12 89 17 18 30 38 71 78 20 59 39 80 22 45  1 27 23\n",
            " 61 37 47  5 92 83 82 40 53 31 52 93 15  7 69 19 32  4 77 79 29 81 34 16\n",
            "  0 88 54 64 90  6 85 74 33  9 70 86 98 75 68 76 96 24 65 35 66 99 84 73\n",
            " 67 91  2 62]\n",
            "==================================================\n",
            "Starting analysis for class: transistor\n"
          ]
        },
        {
          "name": "stderr",
          "output_type": "stream",
          "text": [
            "Feature extraction (train): 100%|██████████| 142/142 [00:04<00:00, 29.85it/s]\n",
            "Covariance estimation: 100%|██████████| 784/784 [00:00<00:00, 7225.57it/s]\n",
            "Feature extraction (test): 100%|██████████| 50/50 [00:01<00:00, 29.20it/s]\n",
            "Feature extraction (test): 100%|██████████| 50/50 [00:01<00:00, 28.97it/s]\n",
            "Feature extraction (train): 100%|██████████| 142/142 [00:04<00:00, 29.68it/s]\n",
            "Covariance estimation: 100%|██████████| 784/784 [00:00<00:00, 6863.84it/s]\n",
            "Feature extraction (test): 100%|██████████| 50/50 [00:01<00:00, 29.00it/s]\n",
            "Feature extraction (test): 100%|██████████| 50/50 [00:01<00:00, 29.11it/s]\n",
            "Feature extraction (train): 100%|██████████| 142/142 [00:04<00:00, 29.79it/s]\n",
            "Covariance estimation: 100%|██████████| 784/784 [00:00<00:00, 6687.47it/s]\n",
            "Feature extraction (test): 100%|██████████| 50/50 [00:01<00:00, 29.27it/s]\n",
            "Feature extraction (test): 100%|██████████| 50/50 [00:01<00:00, 29.20it/s]\n"
          ]
        },
        {
          "data": {
            "image/png": "[encoded data removed]",
            "text/plain": [
              "<Figure size 640x480 with 1 Axes>"
            ]
          },
          "metadata": {},
          "output_type": "display_data"
        },
        {
          "name": "stdout",
          "output_type": "stream",
          "text": [
            "sorted_indices: [87 65 28 85  5 20  7  8 46 99 29 40 12 30 67  2  4 89 22 72 18 16 83 32\n",
            " 38  3 90 69 36 14 66 88 74 58 62 43 63 48 64 56 78 39 52 91 11 37 53 34\n",
            " 77 23 27 57 17 33 79  0 51 73 81 86 25 70 80 49 82 26 42 96 94 68  9 61\n",
            " 60 35 84 10 15 75 24 31 97  1 76 50 93  6 44 55 45 92 21 71 54 95 47 59\n",
            " 13 98 41 19]\n",
            "==================================================\n",
            "Starting analysis for class: metal_nut\n"
          ]
        },
        {
          "name": "stderr",
          "output_type": "stream",
          "text": [
            "Feature extraction (train): 100%|██████████| 146/146 [00:02<00:00, 63.69it/s]\n",
            "Covariance estimation: 100%|██████████| 784/784 [00:00<00:00, 6598.81it/s]\n",
            "Feature extraction (test): 100%|██████████| 58/58 [00:00<00:00, 60.35it/s]\n",
            "Feature extraction (test): 100%|██████████| 58/58 [00:00<00:00, 59.06it/s]\n",
            "Feature extraction (train): 100%|██████████| 147/147 [00:02<00:00, 63.53it/s]\n",
            "Covariance estimation: 100%|██████████| 784/784 [00:00<00:00, 6880.50it/s]\n",
            "Feature extraction (test): 100%|██████████| 58/58 [00:00<00:00, 59.72it/s]\n",
            "Feature extraction (test): 100%|██████████| 58/58 [00:00<00:00, 60.50it/s]\n",
            "Feature extraction (train): 100%|██████████| 147/147 [00:02<00:00, 62.91it/s]\n",
            "Covariance estimation: 100%|██████████| 784/784 [00:00<00:00, 6566.36it/s]\n",
            "Feature extraction (test): 100%|██████████| 58/58 [00:00<00:00, 59.81it/s]\n",
            "Feature extraction (test): 100%|██████████| 58/58 [00:00<00:00, 60.01it/s]\n"
          ]
        },
        {
          "data": {
            "image/png": "[encoded data removed]",
            "text/plain": [
              "<Figure size 640x480 with 1 Axes>"
            ]
          },
          "metadata": {},
          "output_type": "display_data"
        },
        {
          "name": "stdout",
          "output_type": "stream",
          "text": [
            "sorted_indices: [14 87 26 95 57  3  8  4 83 89 20 36  2 11 37 49 61 46 80 22 43 63 30 25\n",
            " 82 96 29 12 58 51 28 50  0 65 19 32 52  1 40 17 10 33  7 66 60 39 44 56\n",
            "  6 88 92 47 18 21 59 48 81  9 72 62 54 93 16 38 85 55 15 86 31 77 42 94\n",
            " 71  5 34 75 27 23 84 98 45 24 97 78 13 64 74 41 35 70 53 90 91 67 69 73\n",
            " 68 99 76 79]\n",
            "{'bottle': {'average_importances': [0.00021092929917110315, 0.00044765355396669815, -0.00010161378058515247, 0.001068753466023827, 0.00026483958375940936, 0.0003590909588379043, 0.00016915767065125062, 0.0003155633153901401, 0.000734967315874191, 0.00013147530765741008, 0.0022047869553735167, 0.001253256062958304, 0.0006304890141449008, 0.0009937531664616268, 0.001394593921012414, 0.00032323714987621727, 0.00023011519401683334, 0.0006152514875451542, 0.0006084639429417097, 0.0003013929372649808, 0.0005251090534408679, 0.0020471480429288627, 0.0004666861759847392, 0.00040990339304132945, 6.247873736597853e-05, 0.0013526922907112215, 0.001259590420030839, 0.00043379181196094113, 0.0009211774958643263, 0.0002620281436796305, 0.0005883004467415557, 0.0003312785297600411, 0.000265822427997812, 0.00013395063455767797, 0.00023576144556499332, 4.139277789235359e-05, 0.000717614072370217, 0.00038727773150278494, 0.000561340191172266, 0.0004831806735609752, 0.00033737315240974414, 0.0009105152593316493, 0.0007564091810414361, 0.001763641149933474, 0.005216716531534475, 0.00046127842966636745, 0.0008428616867952599, 0.00036864767433704887, 0.000641706034763582, 0.0009850567438336826, 0.0011649698020977557, 0.004380616927489885, 0.0003312578258036029, 0.0003373655849297312, 0.00019245129400199032, 0.0006306903091137425, 0.0007243636290599579, 0.001426517925049368, 0.0006600790819113097, 0.0005200392181011759, 0.002302626503372059, 0.0004080380384793303, -0.0002387097190628129, 0.0006626235362783653, 0.00018518338583447166, 4.683249158769313e-05, 4.1367759217999143e-05, -4.380871888857533e-05, 9.025526063251761e-05, 0.00031213228683727817, 0.0001209146760417686, 0.000558336963554266, 0.001509114402537352, -4.1304200747586485e-05, 0.00015434871427710828, 0.00010391457045692369, 8.231708278042908e-05, 0.0002625519721733231, 0.0005447063599829383, 0.00026222663742669905, 0.0004686210510208196, 0.00025242470212705204, 0.0003403655597855604, 0.00034827572541888213, 6.420291870664248e-06, 0.00015730459706423763, 0.00011923332412966392, 0.00262979316550808, 0.00019644267563719472, 0.0006269398325612722, 0.00018043825810221126, -4.3961071911994644e-05, 0.00035400887337866394, 0.0003278348998895971, 0.001179358968195432, 0.006046106799418564, 7.45326543816575e-05, 0.0007045555619275742, 0.00010972624461010512, 2.5975546636932318e-05], 'top_10_features': [95, 44, 51, 87, 60, 10, 21, 43, 72, 57], 'bottom_10_features': [65, 35, 66, 99, 84, 73, 67, 91, 2, 62], 'first_10_features': [0, 1, 2, 3, 4, 5, 6, 7, 8, 9]}, 'transistor': {'average_importances': [0.0004220528895559535, -0.00021383488954200094, 0.0023002199216483055, 0.0014519242639185286, 0.002179649109746107, 0.004098266774089199, -0.000464882568096144, 0.003649536701647027, 0.0034816751008327853, 0.00014174217373874587, 1.3586467881447165e-05, 0.0007454370611956751, 0.0027589676877632177, -0.0011149431296806345, 0.0012377257744862202, -1.5120144608249397e-05, 0.00164934385839266, 0.0004371104827258776, 0.0016655266534280067, -0.0016446946256484611, 0.0037364915236623255, -0.0007786933199762647, 0.0017313378606143386, 0.00054838003542379, -0.00017651592471050007, 0.0003363310249179981, 0.0002557740383262175, 0.0005361405992018916, 0.005019276098449839, 0.0032026992471914837, 0.0023475166197807575, -0.00019440513146880742, 0.0015400435314587198, 0.000425452775612493, 0.0005858727591263602, 3.161815413499358e-05, 0.0013188405242020955, 0.0005956278142797237, 0.0014808196935526263, 0.000808663474446821, 0.002970898521174048, -0.001533508526062229, 0.00022639501798560335, 0.0009524269087307635, -0.0005233941401668885, -0.0006713583500219297, 0.003368210360510789, -0.000891156637585877, 0.0009444510847406532, 0.0002620638110755191, -0.000237885204551073, 0.00038518975379649617, 0.0008079794894970312, 0.0005861607166074423, -0.0008706000540743553, -0.0005473914550269502, 0.0008805738162035818, 0.00048429517626591423, 0.0010445443928346343, -0.0009999501976754404, 9.804868126269313e-05, 0.0001394938177575744, 0.001042428592076372, 0.0009457329906480405, 0.000928493395899066, 0.005375972417808665, 0.001213469624070392, 0.002321287733173342, 0.000151604157990722, 0.0013286662632853163, 0.0002877423576513882, -0.0007832390609160411, 0.0016701803473411585, 0.0003697176960976156, 0.0011707681858522667, -3.600187419716683e-05, -0.00022871587161791643, 0.0005853843562081407, 0.0008187226862437225, 0.0004227981680409165, 0.00027214451693028757, 0.0003677092047342419, 0.00025800310158038037, 0.0015419310520114655, 2.1481829937034885e-05, 0.004688458288420165, 0.00035713367480361136, 0.00937047862746391, 0.001191889290061754, 0.002013358483955933, 0.0013556500162342038, 0.000762361551153945, -0.0007420085505246791, -0.0002892223906508044, 0.00017195609086502936, -0.0008853997331758438, 0.00020320724438253426, -0.0002000968077391363, -0.0013586335582199682, 0.003308537129317298], 'top_10_features': [87, 65, 28, 85, 5, 20, 7, 8, 46, 99], 'bottom_10_features': [21, 71, 54, 95, 47, 59, 13, 98, 41, 19], 'first_10_features': [0, 1, 2, 3, 4, 5, 6, 7, 8, 9]}, 'metal_nut': {'average_importances': [0.0020813235766958447, 0.0019383545629663896, 0.003335615737942277, 0.005091981119560329, 0.004921858283100026, 0.0007459364469174501, 0.0015824450964582921, 0.00182999732448678, 0.0050877548375653685, 0.0012283715253580036, 0.001850445718620956, 0.0031684258343451788, 0.0022292378530521795, 0.0005204633562753876, 0.010918817898046681, 0.0009733802840493263, 0.0011255591736587522, 0.0018981459437324988, 0.0013865553744057586, 0.0020330517022698613, 0.003865694481437846, 0.0013851020736342923, 0.0027375122419747524, 0.000633784669041515, 0.0005720519164187735, 0.00257709314499636, 0.006622475451377026, 0.0006886849743401221, 0.002120962722964248, 0.0024376245533660836, 0.002609589531605616, 0.0008793797640178255, 0.002003324429487067, 0.0018307021663552432, 0.0007404997496940716, 0.0004766132124855253, 0.003368488382760345, 0.00300204125489667, 0.0011081426036816389, 0.001706104759544987, 0.001915276353844549, 0.0004916262177073749, 0.0008530172592544627, 0.0026713954020476014, 0.0016824965819430826, 0.0006022084277483112, 0.0028701615819597035, 0.001498174292009084, 0.0012577291290158572, 0.0029163909053906054, 0.0021095850959889084, 0.0021662102478658594, 0.0019996583947394044, 0.0004496127623166979, 0.0011602249173587875, 0.0010658533898730098, 0.0016185656293523643, 0.005336930339216228, 0.0022196650247104563, 0.001364901195413178, 0.001730427597601114, 0.0029095025484129713, 0.0011854881207635042, 0.0026148987423113557, 0.00050463016769516, 0.0020780382429107513, 0.0017845430964682867, 0.0004158619932277026, 0.00022435657611437806, 0.0003303203485979604, 0.00047526085177788485, 0.0007742891202086785, 0.001195951436038604, 0.00031699261792746586, 0.0004992949958983658, 0.0007047400729626544, 0.00017301404596300104, 0.0008654792433259173, 0.0005318525003891553, 8.41037784241975e-06, 0.0027773305317781993, 0.0012373328121597267, 0.002509509908680966, 0.004841163670212663, 0.000627914808338866, 0.0010941979331251888, 0.000939665304643178, 0.008325830451591706, 0.0015091168143018807, 0.004694902133241974, 0.0004214125510230149, 0.0004164354436583991, 0.0014998092453707423, 0.0011512275782114, 0.0007820171226075404, 0.005849780701876399, 0.0024959788770022953, 0.0005573440678363628, 0.0006254962943179251, 0.00021022007916182694], 'top_10_features': [14, 87, 26, 95, 57, 3, 8, 4, 83, 89], 'bottom_10_features': [53, 90, 91, 67, 69, 73, 68, 99, 76, 79], 'first_10_features': [0, 1, 2, 3, 4, 5, 6, 7, 8, 9]}}\n"
          ]
        }
      ],
      "source": [
        "seed_all(SEED)\n",
        "results = {c: [0] * MAX_NUMBER_OF_BACKBONE_FEATURES for c in CLASS_NAMES}\n",
        "\n",
        "run_timestamp = time.time()\n",
        "print(f\"{run_timestamp}\")\n",
        "\n",
        "idx_all_fatures = torch.Tensor(range(MAX_NUMBER_OF_BACKBONE_FEATURES)).int()\n",
        "idx_first_n_features = torch.Tensor(range(NUMBER_OF_BACKBONE_FEATURES)).int()\n",
        "\n",
        "dataloaders = {c: {\"val_dataloader\": None, \"test_dataloader\": None, \"train_dataloaders\": None} for c in CLASS_NAMES}\n",
        "\n",
        "# TODO: Your code for T1.1, T1.2, and T1.3 goes below. Don't forget to write `test_permutation_importance` and `permute_feature` above in the PADIM code.\n",
        "# T1.1\n",
        "def split_dataset(dataset, even=True):\n",
        "    '''\n",
        "    Function to split dataset into even and odd indices\n",
        "    '''\n",
        "    indices = range(len(dataset))\n",
        "    selected_indices = indices[0::2] if even else indices[1::2]\n",
        "    return SubsetRandomSampler(selected_indices)\n",
        "\n",
        "for c in CLASS_NAMES:\n",
        "    test_dataset = MVTecDataset(DATA_PATH, class_name=c, is_train=False, resize=RESIZE, cropsize=CROP_SIZE)\n",
        "    dataloaders[c][\"val_dataloader\"] = DataLoader(test_dataset, sampler=split_dataset(test_dataset, even=True), batch_size=BATCH_SIZE)\n",
        "    dataloaders[c][\"test_dataloader\"] = DataLoader(test_dataset, sampler=split_dataset(test_dataset, even=False), batch_size=BATCH_SIZE)\n",
        "\n",
        "def k_fold_indices(total, k):\n",
        "    folds = [[] for _ in range(k)]\n",
        "    for i in range(total):\n",
        "        for fold in range(k):\n",
        "            if i % k != fold:\n",
        "                folds[fold].append(i)\n",
        "    return folds\n",
        "\n",
        "for c in CLASS_NAMES:\n",
        "    train_dataset = MVTecDataset(DATA_PATH, class_name=c, is_train=True, resize=RESIZE, cropsize=CROP_SIZE)\n",
        "    total_samples = len(train_dataset)\n",
        "    # print(len(train_dataset))\n",
        "    fold_indices = k_fold_indices(total_samples, folds)\n",
        "    train_dataloaders = []\n",
        "    for fold_idx in fold_indices:\n",
        "        sampler = SubsetRandomSampler(fold_idx)\n",
        "        train_dataloaders.append(DataLoader(train_dataset, sampler=sampler, batch_size=BATCH_SIZE))\n",
        "    dataloaders[c][\"train_dataloaders\"] = train_dataloaders\n",
        "\n",
        "# T1.2\n",
        "# Calculate feature importances for each class and fold\n",
        "for class_name in CLASS_NAMES:\n",
        "    print('=' * 50)\n",
        "    print(f'Starting analysis for class: {class_name}')\n",
        "    feature_importances = np.zeros(MAX_NUMBER_OF_BACKBONE_FEATURES)\n",
        "    \n",
        "    # For each fold, train the model and calculate feature importances\n",
        "    for fold, train_loader in enumerate(dataloaders[class_name]['train_dataloaders']):\n",
        "        padim_model = PADIM(\n",
        "            backbone=BACKBONE,\n",
        "            device=DEVICE,\n",
        "            backbone_features_idx=idx_all_fatures,\n",
        "            save_path=SAVE_PATH / f\"{class_name}_fold_{fold}\",\n",
        "            plot_metrics=False\n",
        "        )\n",
        "        padim_model.train(train_loader)\n",
        "        fold_res = padim_model.test(dataloaders[class_name][\"val_dataloader\"])\n",
        "        # Calculate feature importances\n",
        "        fold_importances = padim_model.test_permutation_importance(dataloaders[class_name][\"val_dataloader\"], range(MAX_NUMBER_OF_BACKBONE_FEATURES))\n",
        "        feature_importances += (fold_res - np.array(fold_importances))\n",
        "\n",
        "\n",
        "    # Plotting feature importances\n",
        "    feature_importances /= len(dataloaders[c]['train_dataloaders'])\n",
        "    plt.figure()\n",
        "    plt.bar(range(MAX_NUMBER_OF_BACKBONE_FEATURES), feature_importances)\n",
        "    plt.title(f'Feature Importances for Class {class_name}')\n",
        "    plt.xlabel('Feature')\n",
        "    plt.ylabel('Importance')\n",
        "    plt.show()\n",
        "\n",
        "    sorted_indices = np.argsort(feature_importances)[::-1]  # Descending order\n",
        "    print(f\"sorted_indices: {sorted_indices}\")\n",
        "    # Selecting top 10, bottom 10, and first 10 features\n",
        "    top_10_features = sorted_indices[:10]\n",
        "    bottom_10_features = sorted_indices[-10:]\n",
        "    first_10_features = range(10)\n",
        "    results[class_name] = {\n",
        "        'average_importances': feature_importances.tolist(),\n",
        "        'top_10_features': top_10_features.tolist(),\n",
        "        'bottom_10_features': bottom_10_features.tolist(),\n",
        "        'first_10_features': list(first_10_features),\n",
        "    }\n",
        "\n",
        "\n",
        "print(results)\n"
      ]
    },
    {
      "cell_type": "code",
      "execution_count": 14,
      "metadata": {},
      "outputs": [
        {
          "name": "stdout",
          "output_type": "stream",
          "text": [
            "==================================================\n",
            "Evaluating models for class: bottle\n"
          ]
        },
        {
          "name": "stderr",
          "output_type": "stream",
          "text": [
            "Feature extraction (train): 100%|██████████| 209/209 [00:04<00:00, 47.67it/s]\n",
            "Covariance estimation: 100%|██████████| 784/784 [00:00<00:00, 16143.34it/s]\n",
            "Feature extraction (test): 100%|██████████| 83/83 [00:01<00:00, 44.26it/s]\n",
            "Feature extraction (train): 100%|██████████| 209/209 [00:04<00:00, 47.52it/s]\n",
            "Covariance estimation: 100%|██████████| 784/784 [00:00<00:00, 17907.20it/s]\n",
            "Feature extraction (test): 100%|██████████| 83/83 [00:01<00:00, 44.60it/s]\n",
            "Feature extraction (train): 100%|██████████| 209/209 [00:04<00:00, 47.27it/s]\n",
            "Covariance estimation: 100%|██████████| 784/784 [00:00<00:00, 17721.42it/s]\n",
            "Feature extraction (test): 100%|██████████| 83/83 [00:01<00:00, 44.53it/s]\n"
          ]
        },
        {
          "name": "stdout",
          "output_type": "stream",
          "text": [
            "==================================================\n",
            "Evaluating models for class: transistor\n"
          ]
        },
        {
          "name": "stderr",
          "output_type": "stream",
          "text": [
            "Feature extraction (train): 100%|██████████| 213/213 [00:07<00:00, 29.69it/s]\n",
            "Covariance estimation: 100%|██████████| 784/784 [00:00<00:00, 16110.91it/s]\n",
            "Feature extraction (test): 100%|██████████| 100/100 [00:03<00:00, 29.20it/s]\n",
            "Feature extraction (train): 100%|██████████| 213/213 [00:07<00:00, 29.85it/s]\n",
            "Covariance estimation: 100%|██████████| 784/784 [00:00<00:00, 16308.11it/s]\n",
            "Feature extraction (test): 100%|██████████| 100/100 [00:03<00:00, 29.13it/s]\n",
            "Feature extraction (train): 100%|██████████| 213/213 [00:07<00:00, 29.71it/s]\n",
            "Covariance estimation: 100%|██████████| 784/784 [00:00<00:00, 18033.98it/s]\n",
            "Feature extraction (test): 100%|██████████| 100/100 [00:03<00:00, 29.00it/s]\n"
          ]
        },
        {
          "name": "stdout",
          "output_type": "stream",
          "text": [
            "==================================================\n",
            "Evaluating models for class: metal_nut\n"
          ]
        },
        {
          "name": "stderr",
          "output_type": "stream",
          "text": [
            "Feature extraction (train): 100%|██████████| 220/220 [00:03<00:00, 63.36it/s]\n",
            "Covariance estimation: 100%|██████████| 784/784 [00:00<00:00, 17123.62it/s]\n",
            "Feature extraction (test): 100%|██████████| 115/115 [00:01<00:00, 58.75it/s]\n",
            "Feature extraction (train): 100%|██████████| 220/220 [00:03<00:00, 63.19it/s]\n",
            "Covariance estimation: 100%|██████████| 784/784 [00:00<00:00, 15652.10it/s]\n",
            "Feature extraction (test): 100%|██████████| 115/115 [00:01<00:00, 58.73it/s]\n",
            "Feature extraction (train): 100%|██████████| 220/220 [00:03<00:00, 63.51it/s]\n",
            "Covariance estimation: 100%|██████████| 784/784 [00:00<00:00, 16708.34it/s]\n",
            "Feature extraction (test): 100%|██████████| 115/115 [00:01<00:00, 59.57it/s]\n"
          ]
        },
        {
          "data": {
            "image/png": "[encoded data removed]",
            "text/plain": [
              "<Figure size 1200x600 with 1 Axes>"
            ]
          },
          "metadata": {},
          "output_type": "display_data"
        }
      ],
      "source": [
        "from pathlib import Path\n",
        "from torch.utils.data import DataLoader\n",
        "import matplotlib.pyplot as plt\n",
        "\n",
        "evaluation_results = {}\n",
        "for class_name in CLASS_NAMES:\n",
        "    print('=' * 50)\n",
        "    print(f'Evaluating models for class: {class_name}')\n",
        "\n",
        "    top_features = results[class_name]['top_10_features']\n",
        "    bottom_features = results[class_name]['bottom_10_features']\n",
        "    first_features = results[class_name]['first_10_features']\n",
        "\n",
        "    evaluation_results[class_name] = {}\n",
        "\n",
        "    def train_and_evaluate(features):\n",
        "        SAVE_PATH = Path(f\"./results/{class_name}\")\n",
        "        train_dataset = MVTecDataset(DATA_PATH, class_name=class_name, is_train=True, resize=RESIZE, cropsize=CROP_SIZE)\n",
        "        train_dataloader = DataLoader(train_dataset, batch_size=BATCH_SIZE, pin_memory=True)\n",
        "        test_dataset = MVTecDataset(DATA_PATH, class_name=class_name, is_train=False, resize=RESIZE, cropsize=CROP_SIZE)\n",
        "        test_dataloader = DataLoader(test_dataset, batch_size=BATCH_SIZE, pin_memory=True)\n",
        "\n",
        "        padim = PADIM(\n",
        "            backbone=BACKBONE,\n",
        "            device=DEVICE,\n",
        "            backbone_features_idx=torch.tensor(features, dtype=torch.int32),\n",
        "            save_path=SAVE_PATH,\n",
        "            plot_metrics=False,\n",
        "        )\n",
        "\n",
        "        return padim.train_and_test(train_dataloader, test_dataloader)\n",
        "\n",
        "    evaluation_results[class_name]['first_features'] = train_and_evaluate(first_features)\n",
        "    evaluation_results[class_name]['bottom_features'] = train_and_evaluate(bottom_features)\n",
        "    evaluation_results[class_name]['top_features'] = train_and_evaluate(top_features)\n",
        "\n",
        "class_names = list(evaluation_results.keys())\n",
        "top_scores = [evaluation_results[c]['top_features'] for c in class_names]\n",
        "bottom_scores = [evaluation_results[c]['bottom_features'] for c in class_names]\n",
        "first_scores = [evaluation_results[c]['first_features'] for c in class_names]\n",
        "\n",
        "x = range(len(class_names))\n",
        "width = 0.2\n",
        "\n",
        "plt.figure(figsize=(12, 6))\n",
        "plt.bar([p - width for p in x], top_scores, width=width, label='Top 10 Features')\n",
        "plt.bar(x, bottom_scores, width=width, label='Bottom 10 Features')\n",
        "plt.bar([p + width for p in x], first_scores, width=width, label='First 10 Features')\n",
        "plt.xlabel('Class Names')\n",
        "plt.ylabel('AUROC Score')\n",
        "plt.title('AUROC Scores by Feature Set for Each Class')\n",
        "plt.xticks(x, class_names, rotation=45)\n",
        "plt.legend()\n",
        "plt.tight_layout()\n",
        "plt.show()"
      ]
    },
    {
      "cell_type": "markdown",
      "metadata": {},
      "source": [
        "# Test results T1.3\n",
        "The empirical evidence suggests that the features that seemed as the \"best\" based on their importance scores may not universally enhance model performance, as proved in the paper. It seems that usually \"the worst\" features are giving slightly worse results (but not always), but there is no visible difference between best and random(first) features.  "
      ]
    },
    {
      "cell_type": "code",
      "execution_count": 15,
      "metadata": {
        "id": "5HK269tCkGB2"
      },
      "outputs": [
        {
          "name": "stdout",
          "output_type": "stream",
          "text": [
            "[95, 44, 51, 87, 60, 10, 21, 43, 72, 57]\n",
            "[62, 2, 91, 67, 73, 84, 99, 66, 35, 65]\n",
            "[87, 65, 28, 85, 5, 20, 7, 8, 46, 99]\n",
            "[19, 41, 98, 13, 59, 47, 95, 54, 71, 21]\n",
            "[14, 87, 26, 95, 57, 3, 8, 4, 83, 89]\n",
            "[79, 76, 99, 68, 73, 69, 67, 91, 90, 53]\n",
            "[0, 2, 4, 6, 8, 10, 12, 14, 16, 18, 20, 22, 24, 26, 28, 30, 32, 34, 36, 38, 40, 42, 44, 46, 48, 50, 52, 54, 56, 58, 60, 62, 64, 66, 68, 70, 72, 74, 76, 78, 80, 82]\n",
            "[1, 3, 5, 7, 9, 11, 13, 15, 17, 19, 21, 23, 25, 27, 29, 31, 33, 35, 37, 39, 41, 43, 45, 47, 49, 51, 53, 55, 57, 59, 61, 63, 65, 67, 69, 71, 73, 75, 77, 79, 81]\n",
            "[1, 2, 4, 5, 7, 8, 10, 11, 13, 14, 16, 17, 19, 20, 22, 23, 25, 26, 28, 29, 31, 32, 34, 35, 37, 38, 40, 41, 43, 44, 46, 47, 49, 50, 52, 53, 55, 56, 58, 59, 61, 62, 64, 65, 67, 68, 70, 71, 73, 74, 76, 77, 79, 80, 82, 83, 85, 86, 88, 89, 91, 92, 94, 95, 97, 98, 100, 101, 103, 104, 106, 107, 109, 110, 112, 113, 115, 116, 118, 119, 121, 122, 124, 125, 127, 128, 130, 131, 133, 134, 136, 137, 139, 140, 142, 143, 145, 146, 148, 149, 151, 152, 154, 155, 157, 158, 160, 161, 163, 164, 166, 167, 169, 170, 172, 173, 175, 176, 178, 179, 181, 182, 184, 185, 187, 188, 190, 191, 193, 194, 196, 197, 199, 200, 202, 203, 205, 206, 208]\n",
            "[0, 2, 3, 5, 6, 8, 9, 11, 12, 14, 15, 17, 18, 20, 21, 23, 24, 26, 27, 29, 30, 32, 33, 35, 36, 38, 39, 41, 42, 44, 45, 47, 48, 50, 51, 53, 54, 56, 57, 59, 60, 62, 63, 65, 66, 68, 69, 71, 72, 74, 75, 77, 78, 80, 81, 83, 84, 86, 87, 89, 90, 92, 93, 95, 96, 98, 99, 101, 102, 104, 105, 107, 108, 110, 111, 113, 114, 116, 117, 119, 120, 122, 123, 125, 126, 128, 129, 131, 132, 134, 135, 137, 138, 140, 141, 143, 144, 146, 147, 149, 150, 152, 153, 155, 156, 158, 159, 161, 162, 164, 165, 167, 168, 170, 171, 173, 174, 176, 177, 179, 180, 182, 183, 185, 186, 188, 189, 191, 192, 194, 195, 197, 198, 200, 201, 203, 204, 206, 207]\n",
            "[0, 1, 3, 4, 6, 7, 9, 10, 12, 13, 15, 16, 18, 19, 21, 22, 24, 25, 27, 28, 30, 31, 33, 34, 36, 37, 39, 40, 42, 43, 45, 46, 48, 49, 51, 52, 54, 55, 57, 58, 60, 61, 63, 64, 66, 67, 69, 70, 72, 73, 75, 76, 78, 79, 81, 82, 84, 85, 87, 88, 90, 91, 93, 94, 96, 97, 99, 100, 102, 103, 105, 106, 108, 109, 111, 112, 114, 115, 117, 118, 120, 121, 123, 124, 126, 127, 129, 130, 132, 133, 135, 136, 138, 139, 141, 142, 144, 145, 147, 148, 150, 151, 153, 154, 156, 157, 159, 160, 162, 163, 165, 166, 168, 169, 171, 172, 174, 175, 177, 178, 180, 181, 183, 184, 186, 187, 189, 190, 192, 193, 195, 196, 198, 199, 201, 202, 204, 205, 207, 208]\n",
            "[0, 2, 4, 6, 8, 10, 12, 14, 16, 18, 20, 22, 24, 26, 28, 30, 32, 34, 36, 38, 40, 42, 44, 46, 48, 50, 52, 54, 56, 58, 60, 62, 64, 66, 68, 70, 72, 74, 76, 78, 80, 82, 84, 86, 88, 90, 92, 94, 96, 98]\n",
            "[1, 3, 5, 7, 9, 11, 13, 15, 17, 19, 21, 23, 25, 27, 29, 31, 33, 35, 37, 39, 41, 43, 45, 47, 49, 51, 53, 55, 57, 59, 61, 63, 65, 67, 69, 71, 73, 75, 77, 79, 81, 83, 85, 87, 89, 91, 93, 95, 97, 99]\n",
            "[1, 2, 4, 5, 7, 8, 10, 11, 13, 14, 16, 17, 19, 20, 22, 23, 25, 26, 28, 29, 31, 32, 34, 35, 37, 38, 40, 41, 43, 44, 46, 47, 49, 50, 52, 53, 55, 56, 58, 59, 61, 62, 64, 65, 67, 68, 70, 71, 73, 74, 76, 77, 79, 80, 82, 83, 85, 86, 88, 89, 91, 92, 94, 95, 97, 98, 100, 101, 103, 104, 106, 107, 109, 110, 112, 113, 115, 116, 118, 119, 121, 122, 124, 125, 127, 128, 130, 131, 133, 134, 136, 137, 139, 140, 142, 143, 145, 146, 148, 149, 151, 152, 154, 155, 157, 158, 160, 161, 163, 164, 166, 167, 169, 170, 172, 173, 175, 176, 178, 179, 181, 182, 184, 185, 187, 188, 190, 191, 193, 194, 196, 197, 199, 200, 202, 203, 205, 206, 208, 209, 211, 212]\n",
            "[0, 2, 3, 5, 6, 8, 9, 11, 12, 14, 15, 17, 18, 20, 21, 23, 24, 26, 27, 29, 30, 32, 33, 35, 36, 38, 39, 41, 42, 44, 45, 47, 48, 50, 51, 53, 54, 56, 57, 59, 60, 62, 63, 65, 66, 68, 69, 71, 72, 74, 75, 77, 78, 80, 81, 83, 84, 86, 87, 89, 90, 92, 93, 95, 96, 98, 99, 101, 102, 104, 105, 107, 108, 110, 111, 113, 114, 116, 117, 119, 120, 122, 123, 125, 126, 128, 129, 131, 132, 134, 135, 137, 138, 140, 141, 143, 144, 146, 147, 149, 150, 152, 153, 155, 156, 158, 159, 161, 162, 164, 165, 167, 168, 170, 171, 173, 174, 176, 177, 179, 180, 182, 183, 185, 186, 188, 189, 191, 192, 194, 195, 197, 198, 200, 201, 203, 204, 206, 207, 209, 210, 212]\n",
            "[0, 1, 3, 4, 6, 7, 9, 10, 12, 13, 15, 16, 18, 19, 21, 22, 24, 25, 27, 28, 30, 31, 33, 34, 36, 37, 39, 40, 42, 43, 45, 46, 48, 49, 51, 52, 54, 55, 57, 58, 60, 61, 63, 64, 66, 67, 69, 70, 72, 73, 75, 76, 78, 79, 81, 82, 84, 85, 87, 88, 90, 91, 93, 94, 96, 97, 99, 100, 102, 103, 105, 106, 108, 109, 111, 112, 114, 115, 117, 118, 120, 121, 123, 124, 126, 127, 129, 130, 132, 133, 135, 136, 138, 139, 141, 142, 144, 145, 147, 148, 150, 151, 153, 154, 156, 157, 159, 160, 162, 163, 165, 166, 168, 169, 171, 172, 174, 175, 177, 178, 180, 181, 183, 184, 186, 187, 189, 190, 192, 193, 195, 196, 198, 199, 201, 202, 204, 205, 207, 208, 210, 211]\n",
            "[0, 2, 4, 6, 8, 10, 12, 14, 16, 18, 20, 22, 24, 26, 28, 30, 32, 34, 36, 38, 40, 42, 44, 46, 48, 50, 52, 54, 56, 58, 60, 62, 64, 66, 68, 70, 72, 74, 76, 78, 80, 82, 84, 86, 88, 90, 92, 94, 96, 98, 100, 102, 104, 106, 108, 110, 112, 114]\n",
            "[1, 3, 5, 7, 9, 11, 13, 15, 17, 19, 21, 23, 25, 27, 29, 31, 33, 35, 37, 39, 41, 43, 45, 47, 49, 51, 53, 55, 57, 59, 61, 63, 65, 67, 69, 71, 73, 75, 77, 79, 81, 83, 85, 87, 89, 91, 93, 95, 97, 99, 101, 103, 105, 107, 109, 111, 113]\n",
            "[1, 2, 4, 5, 7, 8, 10, 11, 13, 14, 16, 17, 19, 20, 22, 23, 25, 26, 28, 29, 31, 32, 34, 35, 37, 38, 40, 41, 43, 44, 46, 47, 49, 50, 52, 53, 55, 56, 58, 59, 61, 62, 64, 65, 67, 68, 70, 71, 73, 74, 76, 77, 79, 80, 82, 83, 85, 86, 88, 89, 91, 92, 94, 95, 97, 98, 100, 101, 103, 104, 106, 107, 109, 110, 112, 113, 115, 116, 118, 119, 121, 122, 124, 125, 127, 128, 130, 131, 133, 134, 136, 137, 139, 140, 142, 143, 145, 146, 148, 149, 151, 152, 154, 155, 157, 158, 160, 161, 163, 164, 166, 167, 169, 170, 172, 173, 175, 176, 178, 179, 181, 182, 184, 185, 187, 188, 190, 191, 193, 194, 196, 197, 199, 200, 202, 203, 205, 206, 208, 209, 211, 212, 214, 215, 217, 218]\n",
            "[0, 2, 3, 5, 6, 8, 9, 11, 12, 14, 15, 17, 18, 20, 21, 23, 24, 26, 27, 29, 30, 32, 33, 35, 36, 38, 39, 41, 42, 44, 45, 47, 48, 50, 51, 53, 54, 56, 57, 59, 60, 62, 63, 65, 66, 68, 69, 71, 72, 74, 75, 77, 78, 80, 81, 83, 84, 86, 87, 89, 90, 92, 93, 95, 96, 98, 99, 101, 102, 104, 105, 107, 108, 110, 111, 113, 114, 116, 117, 119, 120, 122, 123, 125, 126, 128, 129, 131, 132, 134, 135, 137, 138, 140, 141, 143, 144, 146, 147, 149, 150, 152, 153, 155, 156, 158, 159, 161, 162, 164, 165, 167, 168, 170, 171, 173, 174, 176, 177, 179, 180, 182, 183, 185, 186, 188, 189, 191, 192, 194, 195, 197, 198, 200, 201, 203, 204, 206, 207, 209, 210, 212, 213, 215, 216, 218, 219]\n",
            "[0, 1, 3, 4, 6, 7, 9, 10, 12, 13, 15, 16, 18, 19, 21, 22, 24, 25, 27, 28, 30, 31, 33, 34, 36, 37, 39, 40, 42, 43, 45, 46, 48, 49, 51, 52, 54, 55, 57, 58, 60, 61, 63, 64, 66, 67, 69, 70, 72, 73, 75, 76, 78, 79, 81, 82, 84, 85, 87, 88, 90, 91, 93, 94, 96, 97, 99, 100, 102, 103, 105, 106, 108, 109, 111, 112, 114, 115, 117, 118, 120, 121, 123, 124, 126, 127, 129, 130, 132, 133, 135, 136, 138, 139, 141, 142, 144, 145, 147, 148, 150, 151, 153, 154, 156, 157, 159, 160, 162, 163, 165, 166, 168, 169, 171, 172, 174, 175, 177, 178, 180, 181, 183, 184, 186, 187, 189, 190, 192, 193, 195, 196, 198, 199, 201, 202, 204, 205, 207, 208, 210, 211, 213, 214, 216, 217, 219]\n"
          ]
        }
      ],
      "source": [
        "# Run at the end, but do not modify - we will use this to asses your output.\n",
        "for c in CLASS_NAMES:\n",
        "    s = pd.Series(results[c][\"average_importances\"])\n",
        "    print(s.sort_values(ascending=False)[:10].index.tolist())\n",
        "    print(s.sort_values(ascending=True)[:10].index.tolist())\n",
        "\n",
        "def get_sorted_indices(loader):\n",
        "    loader.dataset.return_only_indices = True\n",
        "    indices = sorted([x.item() for x in loader])\n",
        "    loader.dataset.return_only_indices = False\n",
        "    return indices\n",
        "\n",
        "for c in CLASS_NAMES:\n",
        "    print(get_sorted_indices(dataloaders[c][\"val_dataloader\"]))\n",
        "    print(get_sorted_indices(dataloaders[c][\"test_dataloader\"]))\n",
        "    for v in dataloaders[c][\"train_dataloaders\"]:\n",
        "        print(get_sorted_indices(v))\n",
        "\n"
      ]
    },
    {
      "cell_type": "markdown",
      "metadata": {
        "id": "YkJPpql4kGB2"
      },
      "source": [
        "# Task 2. Improving PADIM with Online Covariance Estimation\n",
        "\n",
        "This implementation of PADIM can be improved in numerous ways. In this exercise, you'll try to indicate its shortcomings and provide some means to mitigate them.\n",
        "\n",
        "#### 2.1. PADIM's training complexity (15%)\n",
        "\n",
        "- Identify the key operations contributing to the algorithm's training space complexity *in this implementation*. Don't focus on the backbone, as it is not the part of the algorithm (however, its output is).\n",
        "- Shortly discuss the implications for scalability. You can support your claims by charts if needed.\n",
        "\n",
        "*Hint: this doesn't need to be super formal analysis - it's about fiding the \"worst\" parts of this implementation. You can support your claims with a chart and brief description (e.g. \"X dominates the complexity, as it's quadratic.\")*"
      ]
    },
    {
      "cell_type": "markdown",
      "metadata": {
        "id": "euZSssj-kGB2"
      },
      "source": [
        "In terms of scalability, the primary concern lies with storing embeddings, as it keeps retaining results for all the test data. This requirement significantly increase memory usage, especially when training on larger datasets. Another issue with the current implementation is its reliance on CPU processing for numerous operations, rather than utilizing the more efficient GPU. To enhance performance, Task 2.2 will focus on reducing memory complexity and shifting computational tasks from the CPU to the GPU for improved efficiency."
      ]
    },
    {
      "cell_type": "code",
      "execution_count": 16,
      "metadata": {
        "id": "uyRq2GTSkGB2"
      },
      "outputs": [
        {
          "name": "stdout",
          "output_type": "stream",
          "text": [
            "==================== Class: metal_nut, Data Length: 50\n"
          ]
        },
        {
          "name": "stderr",
          "output_type": "stream",
          "text": [
            "Feature extraction (train): 100%|██████████| 50/50 [00:00<00:00, 61.05it/s]\n",
            "Covariance estimation: 100%|██████████| 784/784 [00:00<00:00, 20449.08it/s]\n"
          ]
        },
        {
          "name": "stdout",
          "output_type": "stream",
          "text": [
            "Offline Memory Usage: 2064.5703125 MiB\n",
            "==================== Class: metal_nut, Data Length: 100\n"
          ]
        },
        {
          "name": "stderr",
          "output_type": "stream",
          "text": [
            "Feature extraction (train): 100%|██████████| 100/100 [00:01<00:00, 61.12it/s]\n",
            "Covariance estimation: 100%|██████████| 784/784 [00:00<00:00, 17066.65it/s]\n"
          ]
        },
        {
          "name": "stdout",
          "output_type": "stream",
          "text": [
            "Offline Memory Usage: 2225.8671875 MiB\n",
            "==================== Class: metal_nut, Data Length: 150\n"
          ]
        },
        {
          "name": "stderr",
          "output_type": "stream",
          "text": [
            "Feature extraction (train): 100%|██████████| 150/150 [00:02<00:00, 62.15it/s]\n",
            "Covariance estimation: 100%|██████████| 784/784 [00:00<00:00, 16613.87it/s]\n"
          ]
        },
        {
          "name": "stdout",
          "output_type": "stream",
          "text": [
            "Offline Memory Usage: 2478.328125 MiB\n",
            "==================== Class: metal_nut, Data Length: 200\n"
          ]
        },
        {
          "name": "stderr",
          "output_type": "stream",
          "text": [
            "Feature extraction (train): 100%|██████████| 200/200 [00:03<00:00, 62.13it/s]\n",
            "Covariance estimation: 100%|██████████| 784/784 [00:00<00:00, 16308.27it/s]\n"
          ]
        },
        {
          "name": "stdout",
          "output_type": "stream",
          "text": [
            "Offline Memory Usage: 2588.71484375 MiB\n"
          ]
        },
        {
          "data": {
            "image/png": "[encoded data removed]",
            "text/plain": [
              "<Figure size 640x480 with 1 Axes>"
            ]
          },
          "metadata": {},
          "output_type": "display_data"
        }
      ],
      "source": [
        "from memory_profiler import memory_usage\n",
        "from torch.utils.data import Subset\n",
        "\n",
        "\n",
        "def init_padim_offline(backbone, device, backbone_features_idx, save_path, train_dataloader):\n",
        "    padim_offline = PADIM(\n",
        "        backbone=backbone,\n",
        "        device=device,\n",
        "        backbone_features_idx=backbone_features_idx,\n",
        "        save_path=save_path,\n",
        "        plot_metrics=True,\n",
        "    )\n",
        "    return padim_offline, (train_dataloader,)\n",
        "\n",
        "def profile_memory(init_function, train_args):\n",
        "    mem_usage_before = memory_usage(-1, interval=0.1, include_children=True)[0]\n",
        "    padim, train_dataloader = init_function(*train_args)\n",
        "    mem_usage = memory_usage((padim.train, train_dataloader), interval=0.1, include_children=True)\n",
        "    mem_usage_after = max(mem_usage)\n",
        "    return mem_usage_after - mem_usage_before\n",
        "\n",
        "def run_experiment():\n",
        "    test_data_lengths = [50, 100, 150, 200]  # Different lengths of test data\n",
        "    memory_usage_data = {}\n",
        "\n",
        "    for data_length in test_data_lengths:\n",
        "        print('=' * 20, f\"Class: {class_name}, Data Length: {data_length}\")\n",
        "\n",
        "        full_train_dataset = MVTecDataset(DATA_PATH, class_name=class_name, is_train=True, resize=RESIZE, cropsize=CROP_SIZE)\n",
        "        # Use only a subset of the full dataset\n",
        "        train_dataset = Subset(full_train_dataset, list(range(data_length)))\n",
        "        train_dataloader = DataLoader(train_dataset, batch_size=BATCH_SIZE, pin_memory=True)\n",
        "\n",
        "        selected_features = torch.randperm(MAX_NUMBER_OF_BACKBONE_FEATURES)[:NUMBER_OF_BACKBONE_FEATURES].to(DEVICE)\n",
        "\n",
        "        memory_offline = profile_memory(\n",
        "            init_padim_offline, \n",
        "            (BACKBONE, DEVICE, selected_features, Path(f\"./results/{class_name}/offline\"), train_dataloader)\n",
        "        )\n",
        "\n",
        "        memory_usage_data[data_length] = memory_offline\n",
        "\n",
        "        print(f\"Offline Memory Usage: {memory_offline} MiB\")\n",
        "\n",
        "    # Plotting\n",
        "    plt.figure()\n",
        "    plt.title(\"Offline Memory Usage Across Different Data Lengths\")\n",
        "    plt.bar([str(label) for label in test_data_lengths], list(memory_usage_data.values()))\n",
        "    plt.ylabel(\"Memory Usage (MiB)\")\n",
        "    plt.xlabel(\"Data Length\")\n",
        "    plt.show()\n",
        "\n",
        "run_experiment()"
      ]
    },
    {
      "cell_type": "markdown",
      "metadata": {},
      "source": [
        "As we can observe, memory usage increases linearly with the length of the data. :("
      ]
    },
    {
      "cell_type": "markdown",
      "metadata": {
        "id": "WcAQiQUpkGB3"
      },
      "source": [
        "#### 2.2 Online mean and covariance (35%)\n",
        "Implement a PyTorch version of [online covariance matrix estimation](https://en.wikipedia.org/wiki/Algorithms_for_calculating_variance#Online) in the training as an alternative to the current method in PADIM.\n",
        "Calculate the mean in an online fashion as well.\n",
        "Your implementation shall run on the selected `torch.device` (such as GPU).\n",
        "No need to reimplement the testing routine to online in this exercise (although it'd be nice to have for Task 1), albeit small changes might be necessary (such as conversion from `torch.Tensor` to `np.ndarray`).\n",
        "\n",
        "Passing criteria:\n",
        "```python\n",
        "torch.allclose(padim_online.mean, torch.Tensor(padim_offline.mean).to(DEVICE), atol=0.01)\n",
        "torch.allclose(padim_online.cov, torch.Tensor(padim_offline.cov).to(DEVICE), atol=0.01)\n",
        "```\n"
      ]
    },
    {
      "cell_type": "code",
      "execution_count": 17,
      "metadata": {
        "id": "Ok_dSs1hkGB3"
      },
      "outputs": [],
      "source": [
        "class PADIMWithOnlineCovariance(PADIM):\n",
        "\n",
        "    ### TODO: Your code goes here\n",
        "    def __init__(\n",
        "            self,\n",
        "            backbone: str,\n",
        "            device: torch.device,\n",
        "            save_path: Path,\n",
        "            backbone_features_idx: List[int],\n",
        "            class_names=...,\n",
        "            plot_metrics=False,\n",
        "            ) -> None:\n",
        "        super().__init__(backbone, device, save_path, backbone_features_idx, class_names, plot_metrics)\n",
        "\n",
        "    def train(self, train_dataloader: DataLoader, C: int, H: int, W: int):\n",
        "        meanx = torch.zeros((C, H * W), device=self.device)\n",
        "        Co = torch.zeros((C, C, H * W), device=self.device)\n",
        "        n = 0\n",
        "\n",
        "        for x, _, _ in tqdm(train_dataloader, desc='Feature extraction (train)'):\n",
        "            with torch.no_grad():\n",
        "                _ = self.model(x.to(self.device))\n",
        "\n",
        "            assert list(self.outputs.keys()) == ['layer1', 'layer2', 'layer3'], list(self.outputs.keys())\n",
        "\n",
        "            layer_outputs = [self.outputs[layer].to(self.device).detach() for layer in ['layer1', 'layer2', 'layer3']]  # Move to the correct device\n",
        "            concatenated_layer_outputs = embedding_concat(embedding_concat(layer_outputs[0], layer_outputs[1]), layer_outputs[2])\n",
        "            concatenated_layer_outputs_subset = torch.index_select(concatenated_layer_outputs, 1, self.feature_subset_indices.to(self.device))  # Ensure indices are on the same device\n",
        "            reshaped_outputs = concatenated_layer_outputs_subset.view(-1, C, H * W)\n",
        "\n",
        "            batch_size = reshaped_outputs.shape[0]\n",
        "            n += batch_size\n",
        "            batch_meanx = meanx.unsqueeze(0).repeat(batch_size, 1, 1)\n",
        "            batch_meanx_update = (batch_meanx + (reshaped_outputs - batch_meanx) / n)\n",
        "\n",
        "            Co += torch.einsum('bik,bjk->ijk', reshaped_outputs - batch_meanx, reshaped_outputs - batch_meanx_update)\n",
        "            meanx = batch_meanx_update.mean(dim=0)\n",
        "\n",
        "            self.outputs = {}\n",
        "\n",
        "        I = torch.eye(C, device=self.device).unsqueeze(-1).repeat(1, 1, H * W)\n",
        "\n",
        "\n",
        "        # Calculate covariance and add scaled identity matrix for normalization\n",
        "        if n > 1:\n",
        "            self.cov = (Co / (n - 1)).to(DEVICE) + 0.01 * I.to(DEVICE)\n",
        "        else:\n",
        "            self.cov = (Co / n).to(DEVICE) + 0.01 * I.to(DEVICE)\n",
        "        \n",
        "        self.mean = meanx.to(DEVICE)\n",
        "\n",
        "    ### END OF YOUR CODE"
      ]
    },
    {
      "cell_type": "code",
      "execution_count": 18,
      "metadata": {
        "id": "G4f2Tw74kGB3"
      },
      "outputs": [
        {
          "name": "stderr",
          "output_type": "stream",
          "text": [
            "Feature extraction (train): 100%|██████████| 209/209 [00:05<00:00, 39.44it/s]\n",
            "Feature extraction (train): 100%|██████████| 209/209 [00:04<00:00, 43.88it/s]\n",
            "Covariance estimation: 100%|██████████| 3136/3136 [00:00<00:00, 11477.45it/s]\n"
          ]
        },
        {
          "name": "stdout",
          "output_type": "stream",
          "text": [
            "Max difference in means: 2.2649765014648438e-06\n",
            "Max difference in covariance: 3.5762786865234375e-07\n"
          ]
        },
        {
          "data": {
            "text/plain": [
              "True"
            ]
          },
          "execution_count": 18,
          "metadata": {},
          "output_type": "execute_result"
        }
      ],
      "source": [
        "# do not modify\n",
        "seed_all(SEED)\n",
        "class_name = 'bottle'\n",
        "BATCH_SIZE = 1\n",
        "RESIZE = 256 * 1\n",
        "CROP_SIZE = 224 * 1\n",
        "BACKBONE = \"resnet18\"\n",
        "NUMBER_OF_BACKBONE_FEATURES = 30\n",
        "MAX_NUMBER_OF_BACKBONE_FEATURES = 448\n",
        "# DEVICE=\"cpu\"\n",
        "\n",
        "indices = sample_idx(NUMBER_OF_BACKBONE_FEATURES, MAX_NUMBER_OF_BACKBONE_FEATURES).to(DEVICE)\n",
        "\n",
        "run_timestamp = time.time()\n",
        "SAVE_PATH = Path(f\"./results/{run_timestamp}/{class_name}\")\n",
        "\n",
        "train_dataset = MVTecDataset(DATA_PATH, class_name=class_name, is_train=True, resize=RESIZE, cropsize=CROP_SIZE)\n",
        "train_dataloader = DataLoader(train_dataset, batch_size=BATCH_SIZE, pin_memory=True)\n",
        "test_dataset = MVTecDataset(DATA_PATH, class_name=class_name, is_train=False, resize=RESIZE, cropsize=CROP_SIZE)\n",
        "val_dataloader = DataLoader(test_dataset, batch_size=BATCH_SIZE, pin_memory=True)\n",
        "\n",
        "\n",
        "padim_online = PADIMWithOnlineCovariance(\n",
        "    backbone=BACKBONE,\n",
        "    device=DEVICE,\n",
        "    backbone_features_idx=indices,\n",
        "    save_path=SAVE_PATH,\n",
        "    plot_metrics=True,\n",
        ")\n",
        "padim_online.train(train_dataloader, NUMBER_OF_BACKBONE_FEATURES, int(CROP_SIZE/4), int(CROP_SIZE/4))\n",
        "\n",
        "padim_offline = PADIM(\n",
        "    backbone=BACKBONE,\n",
        "    device=DEVICE,\n",
        "    backbone_features_idx=indices,\n",
        "    save_path=SAVE_PATH,\n",
        "    plot_metrics=True,\n",
        ")\n",
        "padim_offline.train(train_dataloader)\n",
        "\n",
        "# Compute differences\n",
        "mean_diff = (padim_online.mean - torch.Tensor(padim_offline.mean).to(DEVICE)).abs()\n",
        "cov_diff = (padim_online.cov - torch.Tensor(padim_offline.cov).to(DEVICE)).abs()\n",
        "\n",
        "# Print max difference for each\n",
        "print(f\"Max difference in means: {mean_diff.max()}\")\n",
        "print(f\"Max difference in covariance: {cov_diff.max()}\")\n",
        "\n",
        "torch.allclose(padim_online.mean, torch.Tensor(padim_offline.mean).to(DEVICE), atol=0.01) and torch.allclose(padim_online.cov, torch.Tensor(padim_offline.cov).to(DEVICE), atol=0.01)"
      ]
    },
    {
      "cell_type": "markdown",
      "metadata": {
        "id": "KTMc4CoCkGB3"
      },
      "source": [
        "#### 2.3 Performance experiments (10%)\n",
        "If you completed task 2.2, design experiments to empirically compare space and memory performance of PADIM training with both traditional and online covariance matrix estimation. Write short conclusions."
      ]
    },
    {
      "cell_type": "code",
      "execution_count": 19,
      "metadata": {
        "id": "6FDVMXAxkGB3"
      },
      "outputs": [
        {
          "name": "stdout",
          "output_type": "stream",
          "text": [
            "==================== Class: bottle, Data Length: 50\n"
          ]
        },
        {
          "name": "stderr",
          "output_type": "stream",
          "text": [
            "Feature extraction (train): 100%|██████████| 50/50 [00:02<00:00, 21.22it/s]\n",
            "Feature extraction (train): 100%|██████████| 50/50 [00:01<00:00, 25.45it/s]\n",
            "Covariance estimation: 100%|██████████| 3136/3136 [00:00<00:00, 15943.13it/s]\n"
          ]
        },
        {
          "name": "stdout",
          "output_type": "stream",
          "text": [
            "Online vs Offline Memory Usage: 1943.48828125 MiB vs 2586.1953125 MiB\n",
            "==================== Class: bottle, Data Length: 100\n"
          ]
        },
        {
          "name": "stderr",
          "output_type": "stream",
          "text": [
            "Feature extraction (train): 100%|██████████| 100/100 [00:04<00:00, 20.97it/s]\n",
            "Feature extraction (train): 100%|██████████| 100/100 [00:03<00:00, 25.76it/s]\n",
            "Covariance estimation: 100%|██████████| 3136/3136 [00:00<00:00, 13591.92it/s]\n"
          ]
        },
        {
          "name": "stdout",
          "output_type": "stream",
          "text": [
            "Online vs Offline Memory Usage: 1938.43359375 MiB vs 3508.3203125 MiB\n",
            "==================== Class: bottle, Data Length: 150\n"
          ]
        },
        {
          "name": "stderr",
          "output_type": "stream",
          "text": [
            "Feature extraction (train): 100%|██████████| 150/150 [00:06<00:00, 21.58it/s]\n",
            "Feature extraction (train): 100%|██████████| 150/150 [00:05<00:00, 25.77it/s]\n",
            "Covariance estimation: 100%|██████████| 3136/3136 [00:00<00:00, 12509.07it/s]\n"
          ]
        },
        {
          "name": "stdout",
          "output_type": "stream",
          "text": [
            "Online vs Offline Memory Usage: 1938.4375 MiB vs 4374.3515625 MiB\n",
            "==================== Class: bottle, Data Length: 200\n"
          ]
        },
        {
          "name": "stderr",
          "output_type": "stream",
          "text": [
            "Feature extraction (train): 100%|██████████| 200/200 [00:09<00:00, 21.34it/s]\n",
            "Feature extraction (train): 100%|██████████| 200/200 [00:07<00:00, 26.35it/s]\n",
            "Covariance estimation: 100%|██████████| 3136/3136 [00:00<00:00, 11881.70it/s]\n"
          ]
        },
        {
          "name": "stdout",
          "output_type": "stream",
          "text": [
            "Online vs Offline Memory Usage: 1938.44921875 MiB vs 5192.87109375 MiB\n"
          ]
        },
        {
          "data": {
            "image/png": "[encoded data removed]",
            "text/plain": [
              "<Figure size 640x480 with 1 Axes>"
            ]
          },
          "metadata": {},
          "output_type": "display_data"
        }
      ],
      "source": [
        "from memory_profiler import memory_usage\n",
        "from torch.utils.data import Subset\n",
        "\n",
        "seed_all(SEED)\n",
        "class_name = 'bottle'\n",
        "BATCH_SIZE = 1\n",
        "RESIZE = 256\n",
        "CROP_SIZE = 224\n",
        "BACKBONE = \"resnet18\"\n",
        "NUMBER_OF_BACKBONE_FEATURES = 30\n",
        "MAX_NUMBER_OF_BACKBONE_FEATURES = 448\n",
        "DEVICE = \"cpu\"\n",
        "\n",
        "def init_padim_offline(backbone, device, backbone_features_idx, save_path, train_dataloader):\n",
        "    padim_offline = PADIM(\n",
        "        backbone=backbone,\n",
        "        device=device,\n",
        "        backbone_features_idx=backbone_features_idx,\n",
        "        save_path=save_path,\n",
        "        plot_metrics=True,\n",
        "    )\n",
        "    return padim_offline, (train_dataloader,)\n",
        "\n",
        "def init_padim_online(backbone, device, backbone_features_idx, save_path, train_dataloader, number_of_backbone_features, crop_size):\n",
        "    padim_online = PADIMWithOnlineCovariance(\n",
        "        backbone=backbone,\n",
        "        device=device,\n",
        "        backbone_features_idx=backbone_features_idx,\n",
        "        save_path=save_path,\n",
        "        plot_metrics=True,\n",
        "    )\n",
        "    return padim_online, (train_dataloader, number_of_backbone_features, int(crop_size/4), int(crop_size/4))\n",
        "\n",
        "def profile_memory(init_function, train_args):\n",
        "    mem_usage_before = memory_usage(-1, interval=0.1, include_children=True)[0]\n",
        "    padim, train_dataloader = init_function(*train_args)\n",
        "    mem_usage = memory_usage((padim.train, train_dataloader), interval=0.1, include_children=True)\n",
        "    mem_usage_after = max(mem_usage)\n",
        "    return mem_usage_after - mem_usage_before\n",
        "\n",
        "def run_experiment():\n",
        "    test_data_lengths = [50, 100, 150, 200]  # Different lengths of test data\n",
        "    memory_usage_data = {}\n",
        "\n",
        "    for data_length in test_data_lengths:\n",
        "        print('=' * 20, f\"Class: {class_name}, Data Length: {data_length}\")\n",
        "\n",
        "        full_train_dataset = MVTecDataset(DATA_PATH, class_name=class_name, is_train=True, resize=RESIZE, cropsize=CROP_SIZE)\n",
        "        # Use only a subset of the full dataset\n",
        "        train_dataset = Subset(full_train_dataset, list(range(data_length)))\n",
        "        train_dataloader = DataLoader(train_dataset, batch_size=BATCH_SIZE, pin_memory=True)\n",
        "\n",
        "        selected_features = torch.randperm(MAX_NUMBER_OF_BACKBONE_FEATURES)[:NUMBER_OF_BACKBONE_FEATURES].to(DEVICE)\n",
        "\n",
        "        memory_online = profile_memory(\n",
        "            init_padim_online, \n",
        "            (BACKBONE, DEVICE, selected_features, Path(f\"./results/{class_name}/online\"), train_dataloader, NUMBER_OF_BACKBONE_FEATURES, CROP_SIZE)\n",
        "        )\n",
        "        memory_offline = profile_memory(\n",
        "            init_padim_offline, \n",
        "            (BACKBONE, DEVICE, selected_features, Path(f\"./results/{class_name}/offline\"), train_dataloader)\n",
        "        )\n",
        "\n",
        "        memory_usage_data[data_length] = (memory_online, memory_offline)\n",
        "\n",
        "        print(f\"Online vs Offline Memory Usage: {memory_online} MiB vs {memory_offline} MiB\")\n",
        "\n",
        "    # Plotting\n",
        "    labels = list(memory_usage_data.keys())\n",
        "    online_memory = [online for online, _ in memory_usage_data.values()]\n",
        "    offline_memory = [offline for _, offline in memory_usage_data.values()]\n",
        "    quotients = [o / off if off != 0 else 0 for o, off in zip(online_memory, offline_memory)]\n",
        "\n",
        "    plt.figure()\n",
        "    plt.title(\"Memory Usage Quotient Across Different Data Lengths\")\n",
        "    plt.bar([str(label) for label in labels], quotients)\n",
        "    plt.ylabel(\"Memory Usage Quotient (Online/Offline)\")\n",
        "    plt.xlabel(\"Data Length\")\n",
        "    plt.show()\n",
        "\n",
        "run_experiment()\n"
      ]
    },
    {
      "cell_type": "markdown",
      "metadata": {
        "id": "UqzG_fC9kGB4"
      },
      "source": [
        "As expected, the online algorithm uses significantly less memory. What is most important is that it's independent from the size of the dataset, demonstrating its efficiency and scalability even with large volumes of data."
      ]
    },
    {
      "cell_type": "markdown",
      "metadata": {},
      "source": [
        "# Time complexity tests\n",
        "Having more features influences the time complexity for the offline algorithm but not for the online algorithm. The time difference between both algorithms is minimal, but online algorithm proves to be generally faster, likely due to a more efficient method of calculation."
      ]
    },
    {
      "cell_type": "code",
      "execution_count": 20,
      "metadata": {},
      "outputs": [
        {
          "name": "stdout",
          "output_type": "stream",
          "text": [
            "==================================================\n",
            "Number of Features: 10\n"
          ]
        },
        {
          "name": "stderr",
          "output_type": "stream",
          "text": [
            "Feature extraction (train): 100%|██████████| 105/105 [00:04<00:00, 23.12it/s]\n",
            "Covariance estimation: 100%|██████████| 3136/3136 [00:00<00:00, 16755.61it/s]\n",
            "Feature extraction (train): 100%|██████████| 105/105 [00:04<00:00, 21.91it/s]\n"
          ]
        },
        {
          "name": "stdout",
          "output_type": "stream",
          "text": [
            "==================================================\n",
            "Number of Features: 50\n"
          ]
        },
        {
          "name": "stderr",
          "output_type": "stream",
          "text": [
            "Feature extraction (train): 100%|██████████| 105/105 [00:04<00:00, 22.92it/s]\n",
            "Covariance estimation: 100%|██████████| 3136/3136 [00:00<00:00, 9248.29it/s]\n",
            "Feature extraction (train): 100%|██████████| 105/105 [00:04<00:00, 21.79it/s]\n"
          ]
        },
        {
          "name": "stdout",
          "output_type": "stream",
          "text": [
            "==================================================\n",
            "Number of Features: 100\n"
          ]
        },
        {
          "name": "stderr",
          "output_type": "stream",
          "text": [
            "Feature extraction (train): 100%|██████████| 105/105 [00:04<00:00, 23.12it/s]\n",
            "Covariance estimation: 100%|██████████| 3136/3136 [00:00<00:00, 5125.13it/s]\n",
            "Feature extraction (train): 100%|██████████| 105/105 [00:04<00:00, 21.82it/s]\n"
          ]
        },
        {
          "name": "stdout",
          "output_type": "stream",
          "text": [
            "==================================================\n",
            "Dataset Length: 50\n"
          ]
        },
        {
          "name": "stderr",
          "output_type": "stream",
          "text": [
            "Feature extraction (train): 100%|██████████| 25/25 [00:01<00:00, 23.29it/s]\n",
            "Covariance estimation: 100%|██████████| 3136/3136 [00:00<00:00, 15516.28it/s]\n",
            "Feature extraction (train): 100%|██████████| 25/25 [00:01<00:00, 21.65it/s]\n"
          ]
        },
        {
          "name": "stdout",
          "output_type": "stream",
          "text": [
            "==================================================\n",
            "Dataset Length: 100\n"
          ]
        },
        {
          "name": "stderr",
          "output_type": "stream",
          "text": [
            "Feature extraction (train): 100%|██████████| 50/50 [00:02<00:00, 23.19it/s]\n",
            "Covariance estimation: 100%|██████████| 3136/3136 [00:00<00:00, 14293.92it/s]\n",
            "Feature extraction (train): 100%|██████████| 50/50 [00:02<00:00, 21.52it/s]\n"
          ]
        },
        {
          "name": "stdout",
          "output_type": "stream",
          "text": [
            "==================================================\n",
            "Dataset Length: 150\n"
          ]
        },
        {
          "name": "stderr",
          "output_type": "stream",
          "text": [
            "Feature extraction (train): 100%|██████████| 75/75 [00:03<00:00, 23.06it/s]\n",
            "Covariance estimation: 100%|██████████| 3136/3136 [00:00<00:00, 12872.46it/s]\n",
            "Feature extraction (train): 100%|██████████| 75/75 [00:03<00:00, 21.74it/s]\n"
          ]
        },
        {
          "name": "stdout",
          "output_type": "stream",
          "text": [
            "==================================================\n",
            "Dataset Length: 200\n"
          ]
        },
        {
          "name": "stderr",
          "output_type": "stream",
          "text": [
            "Feature extraction (train): 100%|██████████| 100/100 [00:04<00:00, 23.18it/s]\n",
            "Covariance estimation: 100%|██████████| 3136/3136 [00:00<00:00, 11455.67it/s]\n",
            "Feature extraction (train): 100%|██████████| 100/100 [00:04<00:00, 21.72it/s]\n"
          ]
        },
        {
          "data": {
            "image/png": "[encoded data removed]",
            "text/plain": [
              "<Figure size 640x480 with 1 Axes>"
            ]
          },
          "metadata": {},
          "output_type": "display_data"
        },
        {
          "data": {
            "image/png": "[encoded data removed]",
            "text/plain": [
              "<Figure size 640x480 with 1 Axes>"
            ]
          },
          "metadata": {},
          "output_type": "display_data"
        }
      ],
      "source": [
        "import time\n",
        "DEVICE = \"cuda\"\n",
        "class_name = 'bottle'\n",
        "BATCH_SIZE = 2\n",
        "BACKBONE = \"resnet18\"\n",
        "MAX_NUMBER_OF_BACKBONE_FEATURES = 448\n",
        "\n",
        "def profile_time(padim_init, train_args):\n",
        "    start_time = time.time()\n",
        "    padim, train_args = padim_init(*train_args)\n",
        "    padim.train(*train_args)  \n",
        "    end_time = time.time()\n",
        "    return end_time - start_time\n",
        "\n",
        "def init_padim_offline(backbone, device, backbone_features_idx, save_path, train_dataloader):\n",
        "    padim_offline = PADIM(\n",
        "        backbone=backbone,\n",
        "        device=device,\n",
        "        backbone_features_idx=backbone_features_idx,\n",
        "        save_path=save_path,\n",
        "        plot_metrics=True,\n",
        "    )\n",
        "    return padim_offline, (train_dataloader,)\n",
        "\n",
        "def init_padim_online(backbone, device, backbone_features_idx, save_path, train_dataloader, number_of_backbone_features, crop_size):\n",
        "    padim_online = PADIMWithOnlineCovariance(\n",
        "        backbone=backbone,\n",
        "        device=device,\n",
        "        backbone_features_idx=backbone_features_idx,\n",
        "        save_path=save_path,\n",
        "        plot_metrics=True,\n",
        "    )\n",
        "    return padim_online, (train_dataloader, number_of_backbone_features, int(crop_size/4), int(crop_size/4))\n",
        "\n",
        "def run_experiment():\n",
        "    number_of_features_options = [10, 50, 100]\n",
        "    dataset_lengths = [50, 100, 150, 200]\n",
        "    training_times_features = {\"Offline\": [], \"Online\": []}\n",
        "    training_times_dataset = {\"Offline\": [], \"Online\": []}\n",
        "\n",
        "    # Testing for different number of features\n",
        "    for num_features in number_of_features_options:\n",
        "        print('=' * 50)\n",
        "        print(f\"Number of Features: {num_features}\")\n",
        "\n",
        "        train_dataset = MVTecDataset(DATA_PATH, class_name=class_name, is_train=True, resize=256, cropsize=224)\n",
        "        train_dataloader = DataLoader(train_dataset, batch_size=BATCH_SIZE, pin_memory=True)\n",
        "\n",
        "        selected_features = torch.randperm(MAX_NUMBER_OF_BACKBONE_FEATURES)[:num_features].to(DEVICE)\n",
        "\n",
        "        # Offline PADIM\n",
        "        time_taken_offline = profile_time(\n",
        "            init_padim_offline, \n",
        "            (BACKBONE, DEVICE, selected_features, Path(f\"./results/{class_name}/offline\"), train_dataloader)\n",
        "        )\n",
        "        training_times_features[\"Offline\"].append(time_taken_offline)\n",
        "\n",
        "        # Online PADIM\n",
        "        time_taken_online = profile_time(\n",
        "            init_padim_online, \n",
        "            (BACKBONE, DEVICE, selected_features, Path(f\"./results/{class_name}/online\"), train_dataloader, num_features, 224)\n",
        "        )\n",
        "        training_times_features[\"Online\"].append(time_taken_online)\n",
        "\n",
        "    # Testing for different dataset lengths\n",
        "    for length in dataset_lengths:\n",
        "        print('=' * 50)\n",
        "        print(f\"Dataset Length: {length}\")\n",
        "\n",
        "        full_dataset = MVTecDataset(DATA_PATH, class_name=class_name, is_train=True, resize=256, cropsize=224)\n",
        "        subset_dataset = Subset(full_dataset, list(range(length)))\n",
        "        train_dataloader = DataLoader(subset_dataset, batch_size=BATCH_SIZE, pin_memory=True)\n",
        "\n",
        "        selected_features = torch.randperm(MAX_NUMBER_OF_BACKBONE_FEATURES)[:30].to(DEVICE)\n",
        "\n",
        "        # Offline PADIM\n",
        "        time_taken_offline = profile_time(\n",
        "            init_padim_offline, \n",
        "            (BACKBONE, DEVICE, selected_features, Path(f\"./results/{class_name}/offline\"), train_dataloader)\n",
        "        )\n",
        "        training_times_dataset[\"Offline\"].append(time_taken_offline)\n",
        "\n",
        "        # Online PADIM\n",
        "        time_taken_online = profile_time(\n",
        "            init_padim_online, \n",
        "            (BACKBONE, DEVICE, selected_features, Path(f\"./results/{class_name}/online\"), train_dataloader, 30, 224)\n",
        "        )\n",
        "        training_times_dataset[\"Online\"].append(time_taken_online)\n",
        "\n",
        "    # Plotting for different number of features\n",
        "    plt.figure()\n",
        "    plt.plot(number_of_features_options, training_times_features[\"Offline\"], label='Offline PADIM', marker='o')\n",
        "    plt.plot(number_of_features_options, training_times_features[\"Online\"], label='Online PADIM', marker='x')\n",
        "    plt.ylabel('Training Time (seconds)')\n",
        "    plt.xlabel('Number of Features')\n",
        "    plt.title('Training Times for Varying Number of Features')\n",
        "    plt.legend()\n",
        "    plt.show()\n",
        "\n",
        "    # Plotting for different dataset lengths\n",
        "    plt.figure()\n",
        "    plt.plot(dataset_lengths, training_times_dataset[\"Offline\"], label='Offline PADIM', marker='o')\n",
        "    plt.plot(dataset_lengths, training_times_dataset[\"Online\"], label='Online PADIM', marker='x')\n",
        "    plt.ylabel('Training Time (seconds)')\n",
        "    plt.xlabel('Dataset Length')\n",
        "    plt.title('Training Times for Different Dataset Lengths')\n",
        "    plt.legend()\n",
        "    plt.show()\n",
        "\n",
        "run_experiment()"
      ]
    }
  ],
  "metadata": {
    "colab": {
      "provenance": []
    },
    "kernelspec": {
      "display_name": "ml-teaching",
      "language": "python",
      "name": "python3"
    },
    "language_info": {
      "codemirror_mode": {
        "name": "ipython",
        "version": 3
      },
      "file_extension": ".py",
      "mimetype": "text/x-python",
      "name": "python",
      "nbconvert_exporter": "python",
      "pygments_lexer": "ipython3",
      "version": "3.10.12"
    }
  },
  "nbformat": 4,
  "nbformat_minor": 0
}
